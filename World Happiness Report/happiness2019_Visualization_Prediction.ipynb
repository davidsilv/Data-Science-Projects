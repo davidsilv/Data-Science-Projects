{
 "cells": [
  {
   "cell_type": "markdown",
   "id": "a3a70d53-2987-4feb-b7d8-1bfa598bfaf6",
   "metadata": {},
   "source": [
    "### Imports"
   ]
  },
  {
   "cell_type": "code",
   "execution_count": 1,
   "id": "fc526e11-2a77-4cbf-98e1-566d70934290",
   "metadata": {},
   "outputs": [],
   "source": [
    "import pandas as pd\n",
    "import numpy as np\n",
    "\n",
    "import seaborn as sns\n",
    "import matplotlib.pyplot as plt\n",
    "\n",
    "from sklearn.metrics import mean_squared_error\n",
    "from sklearn.preprocessing import StandardScaler\n",
    "from sklearn.model_selection import train_test_split\n",
    "\n",
    "import warnings\n",
    "warnings.filterwarnings('ignore')"
   ]
  },
  {
   "cell_type": "markdown",
   "id": "23019cef-d314-415b-8924-62dfc77fb95e",
   "metadata": {},
   "source": [
    "#### read data"
   ]
  },
  {
   "cell_type": "code",
   "execution_count": 2,
   "id": "594d5bb8-485f-4f4f-9114-c42832ae96f1",
   "metadata": {},
   "outputs": [],
   "source": [
    "happiness_df = pd.read_csv('2019.csv')"
   ]
  },
  {
   "cell_type": "code",
   "execution_count": 3,
   "id": "1f07ace3-337f-4a12-9634-c04158a7fa80",
   "metadata": {},
   "outputs": [
    {
     "data": {
      "text/html": [
       "<div>\n",
       "<style scoped>\n",
       "    .dataframe tbody tr th:only-of-type {\n",
       "        vertical-align: middle;\n",
       "    }\n",
       "\n",
       "    .dataframe tbody tr th {\n",
       "        vertical-align: top;\n",
       "    }\n",
       "\n",
       "    .dataframe thead th {\n",
       "        text-align: right;\n",
       "    }\n",
       "</style>\n",
       "<table border=\"1\" class=\"dataframe\">\n",
       "  <thead>\n",
       "    <tr style=\"text-align: right;\">\n",
       "      <th></th>\n",
       "      <th>Overall rank</th>\n",
       "      <th>Country or region</th>\n",
       "      <th>Score</th>\n",
       "      <th>GDP per capita</th>\n",
       "      <th>Social support</th>\n",
       "      <th>Healthy life expectancy</th>\n",
       "      <th>Freedom to make life choices</th>\n",
       "      <th>Generosity</th>\n",
       "      <th>Perceptions of corruption</th>\n",
       "    </tr>\n",
       "  </thead>\n",
       "  <tbody>\n",
       "    <tr>\n",
       "      <th>0</th>\n",
       "      <td>1</td>\n",
       "      <td>Finland</td>\n",
       "      <td>7.769</td>\n",
       "      <td>1.340</td>\n",
       "      <td>1.587</td>\n",
       "      <td>0.986</td>\n",
       "      <td>0.596</td>\n",
       "      <td>0.153</td>\n",
       "      <td>0.393</td>\n",
       "    </tr>\n",
       "    <tr>\n",
       "      <th>1</th>\n",
       "      <td>2</td>\n",
       "      <td>Denmark</td>\n",
       "      <td>7.600</td>\n",
       "      <td>1.383</td>\n",
       "      <td>1.573</td>\n",
       "      <td>0.996</td>\n",
       "      <td>0.592</td>\n",
       "      <td>0.252</td>\n",
       "      <td>0.410</td>\n",
       "    </tr>\n",
       "    <tr>\n",
       "      <th>2</th>\n",
       "      <td>3</td>\n",
       "      <td>Norway</td>\n",
       "      <td>7.554</td>\n",
       "      <td>1.488</td>\n",
       "      <td>1.582</td>\n",
       "      <td>1.028</td>\n",
       "      <td>0.603</td>\n",
       "      <td>0.271</td>\n",
       "      <td>0.341</td>\n",
       "    </tr>\n",
       "    <tr>\n",
       "      <th>3</th>\n",
       "      <td>4</td>\n",
       "      <td>Iceland</td>\n",
       "      <td>7.494</td>\n",
       "      <td>1.380</td>\n",
       "      <td>1.624</td>\n",
       "      <td>1.026</td>\n",
       "      <td>0.591</td>\n",
       "      <td>0.354</td>\n",
       "      <td>0.118</td>\n",
       "    </tr>\n",
       "    <tr>\n",
       "      <th>4</th>\n",
       "      <td>5</td>\n",
       "      <td>Netherlands</td>\n",
       "      <td>7.488</td>\n",
       "      <td>1.396</td>\n",
       "      <td>1.522</td>\n",
       "      <td>0.999</td>\n",
       "      <td>0.557</td>\n",
       "      <td>0.322</td>\n",
       "      <td>0.298</td>\n",
       "    </tr>\n",
       "  </tbody>\n",
       "</table>\n",
       "</div>"
      ],
      "text/plain": [
       "   Overall rank Country or region  Score  GDP per capita  Social support  \\\n",
       "0             1           Finland  7.769           1.340           1.587   \n",
       "1             2           Denmark  7.600           1.383           1.573   \n",
       "2             3            Norway  7.554           1.488           1.582   \n",
       "3             4           Iceland  7.494           1.380           1.624   \n",
       "4             5       Netherlands  7.488           1.396           1.522   \n",
       "\n",
       "   Healthy life expectancy  Freedom to make life choices  Generosity  \\\n",
       "0                    0.986                         0.596       0.153   \n",
       "1                    0.996                         0.592       0.252   \n",
       "2                    1.028                         0.603       0.271   \n",
       "3                    1.026                         0.591       0.354   \n",
       "4                    0.999                         0.557       0.322   \n",
       "\n",
       "   Perceptions of corruption  \n",
       "0                      0.393  \n",
       "1                      0.410  \n",
       "2                      0.341  \n",
       "3                      0.118  \n",
       "4                      0.298  "
      ]
     },
     "execution_count": 3,
     "metadata": {},
     "output_type": "execute_result"
    }
   ],
   "source": [
    "# View the first 5 rows from the dataframe\n",
    "happiness_df.head()"
   ]
  },
  {
   "cell_type": "code",
   "execution_count": 4,
   "id": "0b5a762f-13a5-464a-a31f-aebcf528e56a",
   "metadata": {},
   "outputs": [
    {
     "data": {
      "text/html": [
       "<div>\n",
       "<style scoped>\n",
       "    .dataframe tbody tr th:only-of-type {\n",
       "        vertical-align: middle;\n",
       "    }\n",
       "\n",
       "    .dataframe tbody tr th {\n",
       "        vertical-align: top;\n",
       "    }\n",
       "\n",
       "    .dataframe thead th {\n",
       "        text-align: right;\n",
       "    }\n",
       "</style>\n",
       "<table border=\"1\" class=\"dataframe\">\n",
       "  <thead>\n",
       "    <tr style=\"text-align: right;\">\n",
       "      <th></th>\n",
       "      <th>Overall rank</th>\n",
       "      <th>Country or region</th>\n",
       "      <th>Score</th>\n",
       "      <th>GDP per capita</th>\n",
       "      <th>Social support</th>\n",
       "      <th>Healthy life expectancy</th>\n",
       "      <th>Freedom to make life choices</th>\n",
       "      <th>Generosity</th>\n",
       "      <th>Perceptions of corruption</th>\n",
       "    </tr>\n",
       "  </thead>\n",
       "  <tbody>\n",
       "    <tr>\n",
       "      <th>22</th>\n",
       "      <td>23</td>\n",
       "      <td>Mexico</td>\n",
       "      <td>6.595</td>\n",
       "      <td>1.070</td>\n",
       "      <td>1.323</td>\n",
       "      <td>0.861</td>\n",
       "      <td>0.433</td>\n",
       "      <td>0.074</td>\n",
       "      <td>0.073</td>\n",
       "    </tr>\n",
       "    <tr>\n",
       "      <th>134</th>\n",
       "      <td>135</td>\n",
       "      <td>Swaziland</td>\n",
       "      <td>4.212</td>\n",
       "      <td>0.811</td>\n",
       "      <td>1.149</td>\n",
       "      <td>0.000</td>\n",
       "      <td>0.313</td>\n",
       "      <td>0.074</td>\n",
       "      <td>0.135</td>\n",
       "    </tr>\n",
       "    <tr>\n",
       "      <th>70</th>\n",
       "      <td>71</td>\n",
       "      <td>Moldova</td>\n",
       "      <td>5.529</td>\n",
       "      <td>0.685</td>\n",
       "      <td>1.328</td>\n",
       "      <td>0.739</td>\n",
       "      <td>0.245</td>\n",
       "      <td>0.181</td>\n",
       "      <td>0.000</td>\n",
       "    </tr>\n",
       "    <tr>\n",
       "      <th>139</th>\n",
       "      <td>140</td>\n",
       "      <td>India</td>\n",
       "      <td>4.015</td>\n",
       "      <td>0.755</td>\n",
       "      <td>0.765</td>\n",
       "      <td>0.588</td>\n",
       "      <td>0.498</td>\n",
       "      <td>0.200</td>\n",
       "      <td>0.085</td>\n",
       "    </tr>\n",
       "    <tr>\n",
       "      <th>58</th>\n",
       "      <td>59</td>\n",
       "      <td>Honduras</td>\n",
       "      <td>5.860</td>\n",
       "      <td>0.642</td>\n",
       "      <td>1.236</td>\n",
       "      <td>0.828</td>\n",
       "      <td>0.507</td>\n",
       "      <td>0.246</td>\n",
       "      <td>0.078</td>\n",
       "    </tr>\n",
       "    <tr>\n",
       "      <th>37</th>\n",
       "      <td>38</td>\n",
       "      <td>Slovakia</td>\n",
       "      <td>6.198</td>\n",
       "      <td>1.246</td>\n",
       "      <td>1.504</td>\n",
       "      <td>0.881</td>\n",
       "      <td>0.334</td>\n",
       "      <td>0.121</td>\n",
       "      <td>0.014</td>\n",
       "    </tr>\n",
       "    <tr>\n",
       "      <th>15</th>\n",
       "      <td>16</td>\n",
       "      <td>Ireland</td>\n",
       "      <td>7.021</td>\n",
       "      <td>1.499</td>\n",
       "      <td>1.553</td>\n",
       "      <td>0.999</td>\n",
       "      <td>0.516</td>\n",
       "      <td>0.298</td>\n",
       "      <td>0.310</td>\n",
       "    </tr>\n",
       "    <tr>\n",
       "      <th>147</th>\n",
       "      <td>148</td>\n",
       "      <td>Botswana</td>\n",
       "      <td>3.488</td>\n",
       "      <td>1.041</td>\n",
       "      <td>1.145</td>\n",
       "      <td>0.538</td>\n",
       "      <td>0.455</td>\n",
       "      <td>0.025</td>\n",
       "      <td>0.100</td>\n",
       "    </tr>\n",
       "    <tr>\n",
       "      <th>74</th>\n",
       "      <td>75</td>\n",
       "      <td>Croatia</td>\n",
       "      <td>5.432</td>\n",
       "      <td>1.155</td>\n",
       "      <td>1.266</td>\n",
       "      <td>0.914</td>\n",
       "      <td>0.296</td>\n",
       "      <td>0.119</td>\n",
       "      <td>0.022</td>\n",
       "    </tr>\n",
       "    <tr>\n",
       "      <th>114</th>\n",
       "      <td>115</td>\n",
       "      <td>Burkina Faso</td>\n",
       "      <td>4.587</td>\n",
       "      <td>0.331</td>\n",
       "      <td>1.056</td>\n",
       "      <td>0.380</td>\n",
       "      <td>0.255</td>\n",
       "      <td>0.177</td>\n",
       "      <td>0.113</td>\n",
       "    </tr>\n",
       "  </tbody>\n",
       "</table>\n",
       "</div>"
      ],
      "text/plain": [
       "     Overall rank Country or region  Score  GDP per capita  Social support  \\\n",
       "22             23            Mexico  6.595           1.070           1.323   \n",
       "134           135         Swaziland  4.212           0.811           1.149   \n",
       "70             71           Moldova  5.529           0.685           1.328   \n",
       "139           140             India  4.015           0.755           0.765   \n",
       "58             59          Honduras  5.860           0.642           1.236   \n",
       "37             38          Slovakia  6.198           1.246           1.504   \n",
       "15             16           Ireland  7.021           1.499           1.553   \n",
       "147           148          Botswana  3.488           1.041           1.145   \n",
       "74             75           Croatia  5.432           1.155           1.266   \n",
       "114           115      Burkina Faso  4.587           0.331           1.056   \n",
       "\n",
       "     Healthy life expectancy  Freedom to make life choices  Generosity  \\\n",
       "22                     0.861                         0.433       0.074   \n",
       "134                    0.000                         0.313       0.074   \n",
       "70                     0.739                         0.245       0.181   \n",
       "139                    0.588                         0.498       0.200   \n",
       "58                     0.828                         0.507       0.246   \n",
       "37                     0.881                         0.334       0.121   \n",
       "15                     0.999                         0.516       0.298   \n",
       "147                    0.538                         0.455       0.025   \n",
       "74                     0.914                         0.296       0.119   \n",
       "114                    0.380                         0.255       0.177   \n",
       "\n",
       "     Perceptions of corruption  \n",
       "22                       0.073  \n",
       "134                      0.135  \n",
       "70                       0.000  \n",
       "139                      0.085  \n",
       "58                       0.078  \n",
       "37                       0.014  \n",
       "15                       0.310  \n",
       "147                      0.100  \n",
       "74                       0.022  \n",
       "114                      0.113  "
      ]
     },
     "execution_count": 4,
     "metadata": {},
     "output_type": "execute_result"
    }
   ],
   "source": [
    "# 10-row random view of the dataset\n",
    "happiness_df.sample(10)"
   ]
  },
  {
   "cell_type": "markdown",
   "id": "82d8f766-699e-4159-973e-0db6c7f288d5",
   "metadata": {},
   "source": [
    "##### BASIC INFORMATION ABOUT THE DATASET"
   ]
  },
  {
   "cell_type": "code",
   "execution_count": 5,
   "id": "69f6db0f-15fa-471c-8c75-96b3cc8d6412",
   "metadata": {},
   "outputs": [
    {
     "name": "stdout",
     "output_type": "stream",
     "text": [
      "<class 'pandas.core.frame.DataFrame'>\n",
      "RangeIndex: 156 entries, 0 to 155\n",
      "Data columns (total 9 columns):\n",
      " #   Column                        Non-Null Count  Dtype  \n",
      "---  ------                        --------------  -----  \n",
      " 0   Overall rank                  156 non-null    int64  \n",
      " 1   Country or region             156 non-null    object \n",
      " 2   Score                         156 non-null    float64\n",
      " 3   GDP per capita                156 non-null    float64\n",
      " 4   Social support                156 non-null    float64\n",
      " 5   Healthy life expectancy       156 non-null    float64\n",
      " 6   Freedom to make life choices  156 non-null    float64\n",
      " 7   Generosity                    156 non-null    float64\n",
      " 8   Perceptions of corruption     156 non-null    float64\n",
      "dtypes: float64(7), int64(1), object(1)\n",
      "memory usage: 11.1+ KB\n"
     ]
    }
   ],
   "source": [
    "happiness_df.info()"
   ]
  },
  {
   "cell_type": "code",
   "execution_count": 6,
   "id": "e11f5fad-7b55-490e-9d89-ae6b430d8e2f",
   "metadata": {},
   "outputs": [
    {
     "data": {
      "text/plain": [
       "(156, 9)"
      ]
     },
     "execution_count": 6,
     "metadata": {},
     "output_type": "execute_result"
    }
   ],
   "source": [
    "happiness_df.shape"
   ]
  },
  {
   "cell_type": "code",
   "execution_count": 7,
   "id": "38278eaf-aa2f-4c66-88f4-05e0ec6e9d6c",
   "metadata": {},
   "outputs": [
    {
     "data": {
      "text/plain": [
       "Overall rank                    0\n",
       "Country or region               0\n",
       "Score                           0\n",
       "GDP per capita                  0\n",
       "Social support                  0\n",
       "Healthy life expectancy         0\n",
       "Freedom to make life choices    0\n",
       "Generosity                      0\n",
       "Perceptions of corruption       0\n",
       "dtype: int64"
      ]
     },
     "execution_count": 7,
     "metadata": {},
     "output_type": "execute_result"
    }
   ],
   "source": [
    "happiness_df.isnull().sum()"
   ]
  },
  {
   "cell_type": "code",
   "execution_count": 8,
   "id": "128ffe87-c81d-48b8-b183-14ec4b1d932a",
   "metadata": {},
   "outputs": [
    {
     "data": {
      "text/html": [
       "<div>\n",
       "<style scoped>\n",
       "    .dataframe tbody tr th:only-of-type {\n",
       "        vertical-align: middle;\n",
       "    }\n",
       "\n",
       "    .dataframe tbody tr th {\n",
       "        vertical-align: top;\n",
       "    }\n",
       "\n",
       "    .dataframe thead th {\n",
       "        text-align: right;\n",
       "    }\n",
       "</style>\n",
       "<table border=\"1\" class=\"dataframe\">\n",
       "  <thead>\n",
       "    <tr style=\"text-align: right;\">\n",
       "      <th></th>\n",
       "      <th>count</th>\n",
       "      <th>mean</th>\n",
       "      <th>std</th>\n",
       "      <th>min</th>\n",
       "      <th>25%</th>\n",
       "      <th>50%</th>\n",
       "      <th>75%</th>\n",
       "      <th>max</th>\n",
       "    </tr>\n",
       "  </thead>\n",
       "  <tbody>\n",
       "    <tr>\n",
       "      <th>Overall rank</th>\n",
       "      <td>156.0</td>\n",
       "      <td>78.500000</td>\n",
       "      <td>45.177428</td>\n",
       "      <td>1.000</td>\n",
       "      <td>39.75000</td>\n",
       "      <td>78.5000</td>\n",
       "      <td>117.25000</td>\n",
       "      <td>156.000</td>\n",
       "    </tr>\n",
       "    <tr>\n",
       "      <th>Score</th>\n",
       "      <td>156.0</td>\n",
       "      <td>5.407096</td>\n",
       "      <td>1.113120</td>\n",
       "      <td>2.853</td>\n",
       "      <td>4.54450</td>\n",
       "      <td>5.3795</td>\n",
       "      <td>6.18450</td>\n",
       "      <td>7.769</td>\n",
       "    </tr>\n",
       "    <tr>\n",
       "      <th>GDP per capita</th>\n",
       "      <td>156.0</td>\n",
       "      <td>0.905147</td>\n",
       "      <td>0.398389</td>\n",
       "      <td>0.000</td>\n",
       "      <td>0.60275</td>\n",
       "      <td>0.9600</td>\n",
       "      <td>1.23250</td>\n",
       "      <td>1.684</td>\n",
       "    </tr>\n",
       "    <tr>\n",
       "      <th>Social support</th>\n",
       "      <td>156.0</td>\n",
       "      <td>1.208814</td>\n",
       "      <td>0.299191</td>\n",
       "      <td>0.000</td>\n",
       "      <td>1.05575</td>\n",
       "      <td>1.2715</td>\n",
       "      <td>1.45250</td>\n",
       "      <td>1.624</td>\n",
       "    </tr>\n",
       "    <tr>\n",
       "      <th>Healthy life expectancy</th>\n",
       "      <td>156.0</td>\n",
       "      <td>0.725244</td>\n",
       "      <td>0.242124</td>\n",
       "      <td>0.000</td>\n",
       "      <td>0.54775</td>\n",
       "      <td>0.7890</td>\n",
       "      <td>0.88175</td>\n",
       "      <td>1.141</td>\n",
       "    </tr>\n",
       "    <tr>\n",
       "      <th>Freedom to make life choices</th>\n",
       "      <td>156.0</td>\n",
       "      <td>0.392571</td>\n",
       "      <td>0.143289</td>\n",
       "      <td>0.000</td>\n",
       "      <td>0.30800</td>\n",
       "      <td>0.4170</td>\n",
       "      <td>0.50725</td>\n",
       "      <td>0.631</td>\n",
       "    </tr>\n",
       "    <tr>\n",
       "      <th>Generosity</th>\n",
       "      <td>156.0</td>\n",
       "      <td>0.184846</td>\n",
       "      <td>0.095254</td>\n",
       "      <td>0.000</td>\n",
       "      <td>0.10875</td>\n",
       "      <td>0.1775</td>\n",
       "      <td>0.24825</td>\n",
       "      <td>0.566</td>\n",
       "    </tr>\n",
       "    <tr>\n",
       "      <th>Perceptions of corruption</th>\n",
       "      <td>156.0</td>\n",
       "      <td>0.110603</td>\n",
       "      <td>0.094538</td>\n",
       "      <td>0.000</td>\n",
       "      <td>0.04700</td>\n",
       "      <td>0.0855</td>\n",
       "      <td>0.14125</td>\n",
       "      <td>0.453</td>\n",
       "    </tr>\n",
       "  </tbody>\n",
       "</table>\n",
       "</div>"
      ],
      "text/plain": [
       "                              count       mean        std    min       25%  \\\n",
       "Overall rank                  156.0  78.500000  45.177428  1.000  39.75000   \n",
       "Score                         156.0   5.407096   1.113120  2.853   4.54450   \n",
       "GDP per capita                156.0   0.905147   0.398389  0.000   0.60275   \n",
       "Social support                156.0   1.208814   0.299191  0.000   1.05575   \n",
       "Healthy life expectancy       156.0   0.725244   0.242124  0.000   0.54775   \n",
       "Freedom to make life choices  156.0   0.392571   0.143289  0.000   0.30800   \n",
       "Generosity                    156.0   0.184846   0.095254  0.000   0.10875   \n",
       "Perceptions of corruption     156.0   0.110603   0.094538  0.000   0.04700   \n",
       "\n",
       "                                  50%        75%      max  \n",
       "Overall rank                  78.5000  117.25000  156.000  \n",
       "Score                          5.3795    6.18450    7.769  \n",
       "GDP per capita                 0.9600    1.23250    1.684  \n",
       "Social support                 1.2715    1.45250    1.624  \n",
       "Healthy life expectancy        0.7890    0.88175    1.141  \n",
       "Freedom to make life choices   0.4170    0.50725    0.631  \n",
       "Generosity                     0.1775    0.24825    0.566  \n",
       "Perceptions of corruption      0.0855    0.14125    0.453  "
      ]
     },
     "execution_count": 8,
     "metadata": {},
     "output_type": "execute_result"
    }
   ],
   "source": [
    "# The dataset statistics\n",
    "happiness_df.describe().T"
   ]
  },
  {
   "cell_type": "code",
   "execution_count": 9,
   "id": "18388536-d268-4b8a-98c7-2f83434f2a0a",
   "metadata": {},
   "outputs": [],
   "source": [
    "# Changing the Overall rank data type to string\n",
    "happiness_df['Overall rank'] = happiness_df['Overall rank'].astype('str')"
   ]
  },
  {
   "cell_type": "markdown",
   "id": "6347e758-b58a-427d-b20b-a5356a9672f4",
   "metadata": {},
   "source": [
    "### Visualization"
   ]
  },
  {
   "cell_type": "code",
   "execution_count": 10,
   "id": "4b0d1555-543b-449e-9f49-47b6820ff0ef",
   "metadata": {},
   "outputs": [],
   "source": [
    "# Top 10 happiest countries\n",
    "happy_10 = happiness_df[['Country or region', 'Score']].head(10)"
   ]
  },
  {
   "cell_type": "code",
   "execution_count": 11,
   "id": "9783ce2e-91fd-46c3-a67c-9b2c6636f507",
   "metadata": {},
   "outputs": [
    {
     "data": {
      "image/png": "[encoded data removed]",
      "text/plain": [
       "<Figure size 576x432 with 1 Axes>"
      ]
     },
     "metadata": {
      "needs_background": "light"
     },
     "output_type": "display_data"
    }
   ],
   "source": [
    "plt.figure(figsize = (8, 6))\n",
    "\n",
    "ax = sns.barplot(x='Score', y='Country or region', data=happy_10, palette='Blues_r')\n",
    "\n",
    "sns.set_style(\"ticks\")\n",
    "sns.despine()\n",
    "\n",
    "plt.title(\"Top 10 Happiest Countries in The World - 2019\", fontsize = 14)\n",
    "ax.set_xlabel(\"Happiness Points\", fontsize=14)\n",
    "ax.set_ylabel(\"\")\n",
    "\n",
    "plt.show()"
   ]
  },
  {
   "cell_type": "code",
   "execution_count": 12,
   "id": "08ebadca-d8e8-48b5-99c0-f5ceff6285b1",
   "metadata": {},
   "outputs": [],
   "source": [
    "unhappy_10 = happiness_df[['Country or region', 'Score']][-10:]"
   ]
  },
  {
   "cell_type": "code",
   "execution_count": 13,
   "id": "36eada4f-5d5d-44ed-9efa-f1ab01b69883",
   "metadata": {},
   "outputs": [
    {
     "data": {
      "image/png": "[encoded data removed]",
      "text/plain": [
       "<Figure size 576x432 with 1 Axes>"
      ]
     },
     "metadata": {},
     "output_type": "display_data"
    }
   ],
   "source": [
    "plt.figure(figsize = (8, 6))\n",
    "\n",
    "ax = sns.barplot(x='Score', y='Country or region', data=unhappy_10, palette='Reds')\n",
    "\n",
    "sns.set_style(\"ticks\")\n",
    "sns.despine()\n",
    "\n",
    "plt.title(\"Top 10 Unhappiest Countries in The World - 2019\", fontsize = 14)\n",
    "ax.set_xlabel(\"Happiness Points\", fontsize=14)\n",
    "ax.set_ylabel(\"\")\n",
    "\n",
    "plt.show()"
   ]
  },
  {
   "cell_type": "markdown",
   "id": "f79172df-328b-4490-bf62-a89d66f8768a",
   "metadata": {},
   "source": [
    "##### Score variable distribution by country/region"
   ]
  },
  {
   "cell_type": "code",
   "execution_count": 14,
   "id": "5ffa3d80-d22c-4681-8187-ca1911c461b2",
   "metadata": {},
   "outputs": [
    {
     "data": {
      "image/png": "[encoded data removed]",
      "text/plain": [
       "<Figure size 432x288 with 1 Axes>"
      ]
     },
     "metadata": {},
     "output_type": "display_data"
    }
   ],
   "source": [
    "sns.histplot(happiness_df['Score'], kde=True)\n",
    "plt.title('the distribution of Score variable')\n",
    "plt.show()"
   ]
  },
  {
   "cell_type": "markdown",
   "id": "d10d909a-48d1-4238-b56a-5c3f631cbfb6",
   "metadata": {},
   "source": [
    "##### Visualizing correlation"
   ]
  },
  {
   "cell_type": "code",
   "execution_count": 15,
   "id": "e43d67bb-dfa2-4961-9d3d-bf5cca0e0efd",
   "metadata": {},
   "outputs": [],
   "source": [
    "correlation = happiness_df.corr()"
   ]
  },
  {
   "cell_type": "code",
   "execution_count": 16,
   "id": "3e75ce78-3f3b-4d26-aa44-400b0b945956",
   "metadata": {},
   "outputs": [
    {
     "data": {
      "image/png": "[encoded data removed]",
      "text/plain": [
       "<Figure size 720x432 with 2 Axes>"
      ]
     },
     "metadata": {},
     "output_type": "display_data"
    }
   ],
   "source": [
    "plt.figure(figsize=(10,6))\n",
    "\n",
    "sns.heatmap(correlation,annot=True,cmap='crest')\n",
    "plt.title('Heatmap of Variables Correlation', fontsize = 16, pad=10)\n",
    "plt.show()"
   ]
  },
  {
   "cell_type": "markdown",
   "id": "73edb26b-7fd0-43d9-80e1-b75030c0fe66",
   "metadata": {
    "tags": []
   },
   "source": [
    "#### The relationship between these features is quite clear, because the higher the values of each variable, the higher the Score value. For example: the greater the purchasing power of a nation, the greater the quality of life of living there. This also applies to the other features. "
   ]
  },
  {
   "cell_type": "code",
   "execution_count": 17,
   "id": "e6dad30a-63a9-4a5c-813e-8d2be9f13d28",
   "metadata": {},
   "outputs": [
    {
     "data": {
      "image/png": "[encoded data removed]",
      "text/plain": [
       "<Figure size 1296x720 with 4 Axes>"
      ]
     },
     "metadata": {},
     "output_type": "display_data"
    }
   ],
   "source": [
    "# Relationship between the features that showed the highest correlation with the Score\n",
    "\n",
    "fix, ax = plt.subplots(2, 2, figsize=(18, 10))\n",
    "\n",
    "happiness_df.plot.scatter('GDP per capita', 'Score', title='Score X GDP per capita', ax=ax[0,0])\n",
    "\n",
    "happiness_df.plot.scatter('Social support', 'Score', title='Score X Social support', ax=ax[0,1])\n",
    "\n",
    "happiness_df.plot.scatter('Healthy life expectancy', 'Score', title='Score X Healthy life expectancy', ax=ax[1,0])\n",
    "\n",
    "happiness_df.plot.scatter('Freedom to make life choices', 'Score', title='Score X Freedom to make life choices', ax=ax[1,1])\n",
    "plt.show()"
   ]
  },
  {
   "cell_type": "markdown",
   "id": "17326c91-d8b1-4c15-84e5-4c2c84253a8d",
   "metadata": {},
   "source": [
    "##### GDP per Capita and Happiness"
   ]
  },
  {
   "cell_type": "code",
   "execution_count": 18,
   "id": "a8b368bf-12db-4e77-af95-f6bdcc0cbbae",
   "metadata": {},
   "outputs": [],
   "source": [
    "highest_GDP = happiness_df.sort_values(by='GDP per capita', ascending=False)[['Country or region', 'GDP per capita', 'Overall rank']].head(10)"
   ]
  },
  {
   "cell_type": "code",
   "execution_count": 19,
   "id": "d5b04979-8f2e-419f-995d-114bf1d515c9",
   "metadata": {},
   "outputs": [
    {
     "data": {
      "image/png": "[encoded data removed]",
      "text/plain": [
       "<Figure size 576x432 with 1 Axes>"
      ]
     },
     "metadata": {},
     "output_type": "display_data"
    }
   ],
   "source": [
    "plt.figure(figsize = (8, 6))\n",
    "\n",
    "ax = sns.barplot(x='GDP per capita', y='Country or region', data=highest_GDP, palette='Blues_r')\n",
    "\n",
    "sns.set_style(\"ticks\")\n",
    "sns.despine()\n",
    "\n",
    "plt.title(\"Top 10 Countries with Highest Contribution of GDP per Capita on Happiness Level\", fontsize = 14)\n",
    "ax.set_xlabel(\"GDP per Capita Points\", fontsize=14)\n",
    "ax.set_ylabel(\"\")\n",
    "\n",
    "plt.show()"
   ]
  },
  {
   "cell_type": "code",
   "execution_count": 20,
   "id": "6bb91197-c59a-48bb-beb3-315fa68c40de",
   "metadata": {},
   "outputs": [],
   "source": [
    "lowest_GDP = happiness_df.sort_values(by='GDP per capita')[['Country or region', 'GDP per capita', 'Overall rank']].head(10)"
   ]
  },
  {
   "cell_type": "code",
   "execution_count": 21,
   "id": "f3a90495-1cbc-4d14-9740-f60741442fd4",
   "metadata": {},
   "outputs": [
    {
     "data": {
      "image/png": "[encoded data removed]",
      "text/plain": [
       "<Figure size 576x432 with 1 Axes>"
      ]
     },
     "metadata": {},
     "output_type": "display_data"
    }
   ],
   "source": [
    "plt.figure(figsize = (8, 6))\n",
    "\n",
    "ax = sns.barplot(x='GDP per capita', y='Country or region', data=lowest_GDP, palette='Reds_r')\n",
    "\n",
    "sns.set_style(\"ticks\")\n",
    "sns.despine()\n",
    "\n",
    "plt.title(\"Top 10 Countries with Lowest Contribution of GDP per Capita on Happiness Level\", fontsize = 14)\n",
    "ax.set_xlabel(\"GDP per Capita Points\", fontsize=14)\n",
    "ax.set_ylabel(\"\")\n",
    "\n",
    "plt.show()"
   ]
  },
  {
   "cell_type": "code",
   "execution_count": 22,
   "id": "b0520570-3a6d-4b01-8042-ca20735f6e5c",
   "metadata": {},
   "outputs": [],
   "source": [
    "highest_social_support = happiness_df.sort_values(by='Social support', ascending=False)[['Country or region', 'Social support', 'Overall rank']].head(10)"
   ]
  },
  {
   "cell_type": "code",
   "execution_count": 23,
   "id": "3b272adb-0715-4bf9-80cd-38666179f9f1",
   "metadata": {},
   "outputs": [
    {
     "data": {
      "image/png": "[encoded data removed]",
      "text/plain": [
       "<Figure size 576x432 with 1 Axes>"
      ]
     },
     "metadata": {},
     "output_type": "display_data"
    }
   ],
   "source": [
    "plt.figure(figsize = (8, 6))\n",
    "\n",
    "ax = sns.barplot(x='Social support', y='Country or region', data=highest_social_support, palette='Blues_r')\n",
    "\n",
    "sns.set_style(\"ticks\")\n",
    "sns.despine()\n",
    "\n",
    "plt.title(\"Top 10 Countries with Highest Contribution of Social Support on Happiness Level\", fontsize = 14)\n",
    "ax.set_xlabel(\"GDP per Capita Points\", fontsize=14)\n",
    "ax.set_ylabel(\"\")\n",
    "\n",
    "plt.show()"
   ]
  },
  {
   "cell_type": "code",
   "execution_count": 24,
   "id": "2b35c393-ec6a-421a-9128-a3f2ce5fe9fd",
   "metadata": {},
   "outputs": [],
   "source": [
    "lowest_social_support = happiness_df.sort_values(by='Social support')[['Country or region', 'Social support', 'Overall rank']].head(10)"
   ]
  },
  {
   "cell_type": "code",
   "execution_count": 25,
   "id": "93609e74-a602-4a01-a3b6-d65ad7406abf",
   "metadata": {},
   "outputs": [
    {
     "data": {
      "image/png": "[encoded data removed]",
      "text/plain": [
       "<Figure size 576x432 with 1 Axes>"
      ]
     },
     "metadata": {},
     "output_type": "display_data"
    }
   ],
   "source": [
    "plt.figure(figsize = (8, 6))\n",
    "\n",
    "ax = sns.barplot(x='Social support', y='Country or region', data=lowest_social_support, palette='Reds_r')\n",
    "\n",
    "sns.set_style(\"ticks\")\n",
    "sns.despine()\n",
    "\n",
    "plt.title(\"Top 10 Countries with Lowest Contribution of Social Support on Happiness Level\", fontsize = 14)\n",
    "ax.set_xlabel(\"GDP per Capita Points\", fontsize=14)\n",
    "ax.set_ylabel(\"\")\n",
    "\n",
    "plt.show()"
   ]
  },
  {
   "cell_type": "code",
   "execution_count": 26,
   "id": "fd1d9e4f-c24a-4c8f-9983-ce14f63fd8db",
   "metadata": {},
   "outputs": [
    {
     "data": {
      "text/html": [
       "        <script type=\"text/javascript\">\n",
       "        window.PlotlyConfig = {MathJaxConfig: 'local'};\n",
       "        if (window.MathJax) {MathJax.Hub.Config({SVG: {font: \"STIX-Web\"}});}\n",
       "        if (typeof require !== 'undefined') {\n",
       "        require.undef(\"plotly\");\n",
       "        requirejs.config({\n",
       "            paths: {\n",
       "                'plotly': ['https://cdn.plot.ly/plotly-2.9.0.min']\n",
       "            }\n",
       "        });\n",
       "        require(['plotly'], function(Plotly) {\n",
       "            window._Plotly = Plotly;\n",
       "        });\n",
       "        }\n",
       "        </script>\n",
       "        "
      ]
     },
     "metadata": {},
     "output_type": "display_data"
    },
    {
     "data": {
      "application/vnd.plotly.v1+json": {
       "config": {
        "plotlyServerURL": "https://plot.ly"
       },
       "data": [
        {
         "coloraxis": "coloraxis",
         "customdata": [
          [
           "Finland",
           "1"
          ],
          [
           "Denmark",
           "2"
          ],
          [
           "Norway",
           "3"
          ],
          [
           "Iceland",
           "4"
          ],
          [
           "Netherlands",
           "5"
          ],
          [
           "Switzerland",
           "6"
          ],
          [
           "Sweden",
           "7"
          ],
          [
           "New Zealand",
           "8"
          ],
          [
           "Canada",
           "9"
          ],
          [
           "Austria",
           "10"
          ],
          [
           "Australia",
           "11"
          ],
          [
           "Costa Rica",
           "12"
          ],
          [
           "Israel",
           "13"
          ],
          [
           "Luxembourg",
           "14"
          ],
          [
           "United Kingdom",
           "15"
          ],
          [
           "Ireland",
           "16"
          ],
          [
           "Germany",
           "17"
          ],
          [
           "Belgium",
           "18"
          ],
          [
           "United States",
           "19"
          ],
          [
           "Czech Republic",
           "20"
          ],
          [
           "United Arab Emirates",
           "21"
          ],
          [
           "Malta",
           "22"
          ],
          [
           "Mexico",
           "23"
          ],
          [
           "France",
           "24"
          ],
          [
           "Taiwan",
           "25"
          ],
          [
           "Chile",
           "26"
          ],
          [
           "Guatemala",
           "27"
          ],
          [
           "Saudi Arabia",
           "28"
          ],
          [
           "Qatar",
           "29"
          ],
          [
           "Spain",
           "30"
          ],
          [
           "Panama",
           "31"
          ],
          [
           "Brazil",
           "32"
          ],
          [
           "Uruguay",
           "33"
          ],
          [
           "Singapore",
           "34"
          ],
          [
           "El Salvador",
           "35"
          ],
          [
           "Italy",
           "36"
          ],
          [
           "Bahrain",
           "37"
          ],
          [
           "Slovakia",
           "38"
          ],
          [
           "Trinidad & Tobago",
           "39"
          ],
          [
           "Poland",
           "40"
          ],
          [
           "Uzbekistan",
           "41"
          ],
          [
           "Lithuania",
           "42"
          ],
          [
           "Colombia",
           "43"
          ],
          [
           "Slovenia",
           "44"
          ],
          [
           "Nicaragua",
           "45"
          ],
          [
           "Kosovo",
           "46"
          ],
          [
           "Argentina",
           "47"
          ],
          [
           "Romania",
           "48"
          ],
          [
           "Cyprus",
           "49"
          ],
          [
           "Ecuador",
           "50"
          ],
          [
           "Kuwait",
           "51"
          ],
          [
           "Thailand",
           "52"
          ],
          [
           "Latvia",
           "53"
          ],
          [
           "South Korea",
           "54"
          ],
          [
           "Estonia",
           "55"
          ],
          [
           "Jamaica",
           "56"
          ],
          [
           "Mauritius",
           "57"
          ],
          [
           "Japan",
           "58"
          ],
          [
           "Honduras",
           "59"
          ],
          [
           "Kazakhstan",
           "60"
          ],
          [
           "Bolivia",
           "61"
          ],
          [
           "Hungary",
           "62"
          ],
          [
           "Paraguay",
           "63"
          ],
          [
           "Northern Cyprus",
           "64"
          ],
          [
           "Peru",
           "65"
          ],
          [
           "Portugal",
           "66"
          ],
          [
           "Pakistan",
           "67"
          ],
          [
           "Russia",
           "68"
          ],
          [
           "Philippines",
           "69"
          ],
          [
           "Serbia",
           "70"
          ],
          [
           "Moldova",
           "71"
          ],
          [
           "Libya",
           "72"
          ],
          [
           "Montenegro",
           "73"
          ],
          [
           "Tajikistan",
           "74"
          ],
          [
           "Croatia",
           "75"
          ],
          [
           "Hong Kong",
           "76"
          ],
          [
           "Dominican Republic",
           "77"
          ],
          [
           "Bosnia and Herzegovina",
           "78"
          ],
          [
           "Turkey",
           "79"
          ],
          [
           "Malaysia",
           "80"
          ],
          [
           "Belarus",
           "81"
          ],
          [
           "Greece",
           "82"
          ],
          [
           "Mongolia",
           "83"
          ],
          [
           "North Macedonia",
           "84"
          ],
          [
           "Nigeria",
           "85"
          ],
          [
           "Kyrgyzstan",
           "86"
          ],
          [
           "Turkmenistan",
           "87"
          ],
          [
           "Algeria",
           "88"
          ],
          [
           "Morocco",
           "89"
          ],
          [
           "Azerbaijan",
           "90"
          ],
          [
           "Lebanon",
           "91"
          ],
          [
           "Indonesia",
           "92"
          ],
          [
           "China",
           "93"
          ],
          [
           "Vietnam",
           "94"
          ],
          [
           "Bhutan",
           "95"
          ],
          [
           "Cameroon",
           "96"
          ],
          [
           "Bulgaria",
           "97"
          ],
          [
           "Ghana",
           "98"
          ],
          [
           "Ivory Coast",
           "99"
          ],
          [
           "Nepal",
           "100"
          ],
          [
           "Jordan",
           "101"
          ],
          [
           "Benin",
           "102"
          ],
          [
           "Congo (Brazzaville)",
           "103"
          ],
          [
           "Gabon",
           "104"
          ],
          [
           "Laos",
           "105"
          ],
          [
           "South Africa",
           "106"
          ],
          [
           "Albania",
           "107"
          ],
          [
           "Venezuela",
           "108"
          ],
          [
           "Cambodia",
           "109"
          ],
          [
           "Palestinian Territories",
           "110"
          ],
          [
           "Senegal",
           "111"
          ],
          [
           "Somalia",
           "112"
          ],
          [
           "Namibia",
           "113"
          ],
          [
           "Niger",
           "114"
          ],
          [
           "Burkina Faso",
           "115"
          ],
          [
           "Armenia",
           "116"
          ],
          [
           "Iran",
           "117"
          ],
          [
           "Guinea",
           "118"
          ],
          [
           "Georgia",
           "119"
          ],
          [
           "Gambia",
           "120"
          ],
          [
           "Kenya",
           "121"
          ],
          [
           "Mauritania",
           "122"
          ],
          [
           "Mozambique",
           "123"
          ],
          [
           "Tunisia",
           "124"
          ],
          [
           "Bangladesh",
           "125"
          ],
          [
           "Iraq",
           "126"
          ],
          [
           "Congo (Kinshasa)",
           "127"
          ],
          [
           "Mali",
           "128"
          ],
          [
           "Sierra Leone",
           "129"
          ],
          [
           "Sri Lanka",
           "130"
          ],
          [
           "Myanmar",
           "131"
          ],
          [
           "Chad",
           "132"
          ],
          [
           "Ukraine",
           "133"
          ],
          [
           "Ethiopia",
           "134"
          ],
          [
           "Swaziland",
           "135"
          ],
          [
           "Uganda",
           "136"
          ],
          [
           "Egypt",
           "137"
          ],
          [
           "Zambia",
           "138"
          ],
          [
           "Togo",
           "139"
          ],
          [
           "India",
           "140"
          ],
          [
           "Liberia",
           "141"
          ],
          [
           "Comoros",
           "142"
          ],
          [
           "Madagascar",
           "143"
          ],
          [
           "Lesotho",
           "144"
          ],
          [
           "Burundi",
           "145"
          ],
          [
           "Zimbabwe",
           "146"
          ],
          [
           "Haiti",
           "147"
          ],
          [
           "Botswana",
           "148"
          ],
          [
           "Syria",
           "149"
          ],
          [
           "Malawi",
           "150"
          ],
          [
           "Yemen",
           "151"
          ],
          [
           "Rwanda",
           "152"
          ],
          [
           "Tanzania",
           "153"
          ],
          [
           "Afghanistan",
           "154"
          ],
          [
           "Central African Republic",
           "155"
          ],
          [
           "South Sudan",
           "156"
          ]
         ],
         "geo": "geo",
         "hovertemplate": "<b>%{hovertext}</b><br><br>Overall rank=%{customdata[1]}<br>Score=%{z}<extra></extra>",
         "hovertext": [
          "Finland",
          "Denmark",
          "Norway",
          "Iceland",
          "Netherlands",
          "Switzerland",
          "Sweden",
          "New Zealand",
          "Canada",
          "Austria",
          "Australia",
          "Costa Rica",
          "Israel",
          "Luxembourg",
          "United Kingdom",
          "Ireland",
          "Germany",
          "Belgium",
          "United States",
          "Czech Republic",
          "United Arab Emirates",
          "Malta",
          "Mexico",
          "France",
          "Taiwan",
          "Chile",
          "Guatemala",
          "Saudi Arabia",
          "Qatar",
          "Spain",
          "Panama",
          "Brazil",
          "Uruguay",
          "Singapore",
          "El Salvador",
          "Italy",
          "Bahrain",
          "Slovakia",
          "Trinidad & Tobago",
          "Poland",
          "Uzbekistan",
          "Lithuania",
          "Colombia",
          "Slovenia",
          "Nicaragua",
          "Kosovo",
          "Argentina",
          "Romania",
          "Cyprus",
          "Ecuador",
          "Kuwait",
          "Thailand",
          "Latvia",
          "South Korea",
          "Estonia",
          "Jamaica",
          "Mauritius",
          "Japan",
          "Honduras",
          "Kazakhstan",
          "Bolivia",
          "Hungary",
          "Paraguay",
          "Northern Cyprus",
          "Peru",
          "Portugal",
          "Pakistan",
          "Russia",
          "Philippines",
          "Serbia",
          "Moldova",
          "Libya",
          "Montenegro",
          "Tajikistan",
          "Croatia",
          "Hong Kong",
          "Dominican Republic",
          "Bosnia and Herzegovina",
          "Turkey",
          "Malaysia",
          "Belarus",
          "Greece",
          "Mongolia",
          "North Macedonia",
          "Nigeria",
          "Kyrgyzstan",
          "Turkmenistan",
          "Algeria",
          "Morocco",
          "Azerbaijan",
          "Lebanon",
          "Indonesia",
          "China",
          "Vietnam",
          "Bhutan",
          "Cameroon",
          "Bulgaria",
          "Ghana",
          "Ivory Coast",
          "Nepal",
          "Jordan",
          "Benin",
          "Congo (Brazzaville)",
          "Gabon",
          "Laos",
          "South Africa",
          "Albania",
          "Venezuela",
          "Cambodia",
          "Palestinian Territories",
          "Senegal",
          "Somalia",
          "Namibia",
          "Niger",
          "Burkina Faso",
          "Armenia",
          "Iran",
          "Guinea",
          "Georgia",
          "Gambia",
          "Kenya",
          "Mauritania",
          "Mozambique",
          "Tunisia",
          "Bangladesh",
          "Iraq",
          "Congo (Kinshasa)",
          "Mali",
          "Sierra Leone",
          "Sri Lanka",
          "Myanmar",
          "Chad",
          "Ukraine",
          "Ethiopia",
          "Swaziland",
          "Uganda",
          "Egypt",
          "Zambia",
          "Togo",
          "India",
          "Liberia",
          "Comoros",
          "Madagascar",
          "Lesotho",
          "Burundi",
          "Zimbabwe",
          "Haiti",
          "Botswana",
          "Syria",
          "Malawi",
          "Yemen",
          "Rwanda",
          "Tanzania",
          "Afghanistan",
          "Central African Republic",
          "South Sudan"
         ],
         "locationmode": "country names",
         "locations": [
          "Finland",
          "Denmark",
          "Norway",
          "Iceland",
          "Netherlands",
          "Switzerland",
          "Sweden",
          "New Zealand",
          "Canada",
          "Austria",
          "Australia",
          "Costa Rica",
          "Israel",
          "Luxembourg",
          "United Kingdom",
          "Ireland",
          "Germany",
          "Belgium",
          "United States",
          "Czech Republic",
          "United Arab Emirates",
          "Malta",
          "Mexico",
          "France",
          "Taiwan",
          "Chile",
          "Guatemala",
          "Saudi Arabia",
          "Qatar",
          "Spain",
          "Panama",
          "Brazil",
          "Uruguay",
          "Singapore",
          "El Salvador",
          "Italy",
          "Bahrain",
          "Slovakia",
          "Trinidad & Tobago",
          "Poland",
          "Uzbekistan",
          "Lithuania",
          "Colombia",
          "Slovenia",
          "Nicaragua",
          "Kosovo",
          "Argentina",
          "Romania",
          "Cyprus",
          "Ecuador",
          "Kuwait",
          "Thailand",
          "Latvia",
          "South Korea",
          "Estonia",
          "Jamaica",
          "Mauritius",
          "Japan",
          "Honduras",
          "Kazakhstan",
          "Bolivia",
          "Hungary",
          "Paraguay",
          "Northern Cyprus",
          "Peru",
          "Portugal",
          "Pakistan",
          "Russia",
          "Philippines",
          "Serbia",
          "Moldova",
          "Libya",
          "Montenegro",
          "Tajikistan",
          "Croatia",
          "Hong Kong",
          "Dominican Republic",
          "Bosnia and Herzegovina",
          "Turkey",
          "Malaysia",
          "Belarus",
          "Greece",
          "Mongolia",
          "North Macedonia",
          "Nigeria",
          "Kyrgyzstan",
          "Turkmenistan",
          "Algeria",
          "Morocco",
          "Azerbaijan",
          "Lebanon",
          "Indonesia",
          "China",
          "Vietnam",
          "Bhutan",
          "Cameroon",
          "Bulgaria",
          "Ghana",
          "Ivory Coast",
          "Nepal",
          "Jordan",
          "Benin",
          "Congo (Brazzaville)",
          "Gabon",
          "Laos",
          "South Africa",
          "Albania",
          "Venezuela",
          "Cambodia",
          "Palestinian Territories",
          "Senegal",
          "Somalia",
          "Namibia",
          "Niger",
          "Burkina Faso",
          "Armenia",
          "Iran",
          "Guinea",
          "Georgia",
          "Gambia",
          "Kenya",
          "Mauritania",
          "Mozambique",
          "Tunisia",
          "Bangladesh",
          "Iraq",
          "Congo (Kinshasa)",
          "Mali",
          "Sierra Leone",
          "Sri Lanka",
          "Myanmar",
          "Chad",
          "Ukraine",
          "Ethiopia",
          "Swaziland",
          "Uganda",
          "Egypt",
          "Zambia",
          "Togo",
          "India",
          "Liberia",
          "Comoros",
          "Madagascar",
          "Lesotho",
          "Burundi",
          "Zimbabwe",
          "Haiti",
          "Botswana",
          "Syria",
          "Malawi",
          "Yemen",
          "Rwanda",
          "Tanzania",
          "Afghanistan",
          "Central African Republic",
          "South Sudan"
         ],
         "name": "",
         "type": "choropleth",
         "z": [
          7.769,
          7.6,
          7.554,
          7.494,
          7.488,
          7.48,
          7.343,
          7.307,
          7.278,
          7.246,
          7.228,
          7.167,
          7.139,
          7.09,
          7.054,
          7.021,
          6.985,
          6.923,
          6.892,
          6.852,
          6.825,
          6.726,
          6.595,
          6.592,
          6.446,
          6.444,
          6.436,
          6.375,
          6.374,
          6.354,
          6.321,
          6.3,
          6.293,
          6.262,
          6.253,
          6.223,
          6.199,
          6.198,
          6.192,
          6.182,
          6.174,
          6.149,
          6.125,
          6.118,
          6.105,
          6.1,
          6.086,
          6.07,
          6.046,
          6.028,
          6.021,
          6.008,
          5.94,
          5.895,
          5.893,
          5.89,
          5.888,
          5.886,
          5.86,
          5.809,
          5.779,
          5.758,
          5.743,
          5.718,
          5.697,
          5.693,
          5.653,
          5.648,
          5.631,
          5.603,
          5.529,
          5.525,
          5.523,
          5.467,
          5.432,
          5.43,
          5.425,
          5.386,
          5.373,
          5.339,
          5.323,
          5.287,
          5.285,
          5.274,
          5.265,
          5.261,
          5.247,
          5.211,
          5.208,
          5.208,
          5.197,
          5.192,
          5.191,
          5.175,
          5.082,
          5.044,
          5.011,
          4.996,
          4.944,
          4.913,
          4.906,
          4.883,
          4.812,
          4.799,
          4.796,
          4.722,
          4.719,
          4.707,
          4.7,
          4.696,
          4.681,
          4.668,
          4.639,
          4.628,
          4.587,
          4.559,
          4.548,
          4.534,
          4.519,
          4.516,
          4.509,
          4.49,
          4.466,
          4.461,
          4.456,
          4.437,
          4.418,
          4.39,
          4.374,
          4.366,
          4.36,
          4.35,
          4.332,
          4.286,
          4.212,
          4.189,
          4.166,
          4.107,
          4.085,
          4.015,
          3.975,
          3.973,
          3.933,
          3.802,
          3.775,
          3.663,
          3.597,
          3.488,
          3.462,
          3.41,
          3.38,
          3.334,
          3.231,
          3.203,
          3.083,
          2.853
         ]
        }
       ],
       "layout": {
        "coloraxis": {
         "colorbar": {
          "title": {
           "text": "Score"
          }
         },
         "colorscale": [
          [
           0,
           "#0d0887"
          ],
          [
           0.1111111111111111,
           "#46039f"
          ],
          [
           0.2222222222222222,
           "#7201a8"
          ],
          [
           0.3333333333333333,
           "#9c179e"
          ],
          [
           0.4444444444444444,
           "#bd3786"
          ],
          [
           0.5555555555555556,
           "#d8576b"
          ],
          [
           0.6666666666666666,
           "#ed7953"
          ],
          [
           0.7777777777777778,
           "#fb9f3a"
          ],
          [
           0.8888888888888888,
           "#fdca26"
          ],
          [
           1,
           "#f0f921"
          ]
         ]
        },
        "geo": {
         "center": {},
         "domain": {
          "x": [
           0,
           1
          ],
          "y": [
           0,
           1
          ]
         }
        },
        "height": 400,
        "legend": {
         "tracegroupgap": 0
        },
        "margin": {
         "b": 0,
         "l": 0,
         "r": 0,
         "t": 0
        },
        "template": {
         "data": {
          "bar": [
           {
            "error_x": {
             "color": "#2a3f5f"
            },
            "error_y": {
             "color": "#2a3f5f"
            },
            "marker": {
             "line": {
              "color": "#E5ECF6",
              "width": 0.5
             },
             "pattern": {
              "fillmode": "overlay",
              "size": 10,
              "solidity": 0.2
             }
            },
            "type": "bar"
           }
          ],
          "barpolar": [
           {
            "marker": {
             "line": {
              "color": "#E5ECF6",
              "width": 0.5
             },
             "pattern": {
              "fillmode": "overlay",
              "size": 10,
              "solidity": 0.2
             }
            },
            "type": "barpolar"
           }
          ],
          "carpet": [
           {
            "aaxis": {
             "endlinecolor": "#2a3f5f",
             "gridcolor": "white",
             "linecolor": "white",
             "minorgridcolor": "white",
             "startlinecolor": "#2a3f5f"
            },
            "baxis": {
             "endlinecolor": "#2a3f5f",
             "gridcolor": "white",
             "linecolor": "white",
             "minorgridcolor": "white",
             "startlinecolor": "#2a3f5f"
            },
            "type": "carpet"
           }
          ],
          "choropleth": [
           {
            "colorbar": {
             "outlinewidth": 0,
             "ticks": ""
            },
            "type": "choropleth"
           }
          ],
          "contour": [
           {
            "colorbar": {
             "outlinewidth": 0,
             "ticks": ""
            },
            "colorscale": [
             [
              0,
              "#0d0887"
             ],
             [
              0.1111111111111111,
              "#46039f"
             ],
             [
              0.2222222222222222,
              "#7201a8"
             ],
             [
              0.3333333333333333,
              "#9c179e"
             ],
             [
              0.4444444444444444,
              "#bd3786"
             ],
             [
              0.5555555555555556,
              "#d8576b"
             ],
             [
              0.6666666666666666,
              "#ed7953"
             ],
             [
              0.7777777777777778,
              "#fb9f3a"
             ],
             [
              0.8888888888888888,
              "#fdca26"
             ],
             [
              1,
              "#f0f921"
             ]
            ],
            "type": "contour"
           }
          ],
          "contourcarpet": [
           {
            "colorbar": {
             "outlinewidth": 0,
             "ticks": ""
            },
            "type": "contourcarpet"
           }
          ],
          "heatmap": [
           {
            "colorbar": {
             "outlinewidth": 0,
             "ticks": ""
            },
            "colorscale": [
             [
              0,
              "#0d0887"
             ],
             [
              0.1111111111111111,
              "#46039f"
             ],
             [
              0.2222222222222222,
              "#7201a8"
             ],
             [
              0.3333333333333333,
              "#9c179e"
             ],
             [
              0.4444444444444444,
              "#bd3786"
             ],
             [
              0.5555555555555556,
              "#d8576b"
             ],
             [
              0.6666666666666666,
              "#ed7953"
             ],
             [
              0.7777777777777778,
              "#fb9f3a"
             ],
             [
              0.8888888888888888,
              "#fdca26"
             ],
             [
              1,
              "#f0f921"
             ]
            ],
            "type": "heatmap"
           }
          ],
          "heatmapgl": [
           {
            "colorbar": {
             "outlinewidth": 0,
             "ticks": ""
            },
            "colorscale": [
             [
              0,
              "#0d0887"
             ],
             [
              0.1111111111111111,
              "#46039f"
             ],
             [
              0.2222222222222222,
              "#7201a8"
             ],
             [
              0.3333333333333333,
              "#9c179e"
             ],
             [
              0.4444444444444444,
              "#bd3786"
             ],
             [
              0.5555555555555556,
              "#d8576b"
             ],
             [
              0.6666666666666666,
              "#ed7953"
             ],
             [
              0.7777777777777778,
              "#fb9f3a"
             ],
             [
              0.8888888888888888,
              "#fdca26"
             ],
             [
              1,
              "#f0f921"
             ]
            ],
            "type": "heatmapgl"
           }
          ],
          "histogram": [
           {
            "marker": {
             "pattern": {
              "fillmode": "overlay",
              "size": 10,
              "solidity": 0.2
             }
            },
            "type": "histogram"
           }
          ],
          "histogram2d": [
           {
            "colorbar": {
             "outlinewidth": 0,
             "ticks": ""
            },
            "colorscale": [
             [
              0,
              "#0d0887"
             ],
             [
              0.1111111111111111,
              "#46039f"
             ],
             [
              0.2222222222222222,
              "#7201a8"
             ],
             [
              0.3333333333333333,
              "#9c179e"
             ],
             [
              0.4444444444444444,
              "#bd3786"
             ],
             [
              0.5555555555555556,
              "#d8576b"
             ],
             [
              0.6666666666666666,
              "#ed7953"
             ],
             [
              0.7777777777777778,
              "#fb9f3a"
             ],
             [
              0.8888888888888888,
              "#fdca26"
             ],
             [
              1,
              "#f0f921"
             ]
            ],
            "type": "histogram2d"
           }
          ],
          "histogram2dcontour": [
           {
            "colorbar": {
             "outlinewidth": 0,
             "ticks": ""
            },
            "colorscale": [
             [
              0,
              "#0d0887"
             ],
             [
              0.1111111111111111,
              "#46039f"
             ],
             [
              0.2222222222222222,
              "#7201a8"
             ],
             [
              0.3333333333333333,
              "#9c179e"
             ],
             [
              0.4444444444444444,
              "#bd3786"
             ],
             [
              0.5555555555555556,
              "#d8576b"
             ],
             [
              0.6666666666666666,
              "#ed7953"
             ],
             [
              0.7777777777777778,
              "#fb9f3a"
             ],
             [
              0.8888888888888888,
              "#fdca26"
             ],
             [
              1,
              "#f0f921"
             ]
            ],
            "type": "histogram2dcontour"
           }
          ],
          "mesh3d": [
           {
            "colorbar": {
             "outlinewidth": 0,
             "ticks": ""
            },
            "type": "mesh3d"
           }
          ],
          "parcoords": [
           {
            "line": {
             "colorbar": {
              "outlinewidth": 0,
              "ticks": ""
             }
            },
            "type": "parcoords"
           }
          ],
          "pie": [
           {
            "automargin": true,
            "type": "pie"
           }
          ],
          "scatter": [
           {
            "marker": {
             "colorbar": {
              "outlinewidth": 0,
              "ticks": ""
             }
            },
            "type": "scatter"
           }
          ],
          "scatter3d": [
           {
            "line": {
             "colorbar": {
              "outlinewidth": 0,
              "ticks": ""
             }
            },
            "marker": {
             "colorbar": {
              "outlinewidth": 0,
              "ticks": ""
             }
            },
            "type": "scatter3d"
           }
          ],
          "scattercarpet": [
           {
            "marker": {
             "colorbar": {
              "outlinewidth": 0,
              "ticks": ""
             }
            },
            "type": "scattercarpet"
           }
          ],
          "scattergeo": [
           {
            "marker": {
             "colorbar": {
              "outlinewidth": 0,
              "ticks": ""
             }
            },
            "type": "scattergeo"
           }
          ],
          "scattergl": [
           {
            "marker": {
             "colorbar": {
              "outlinewidth": 0,
              "ticks": ""
             }
            },
            "type": "scattergl"
           }
          ],
          "scattermapbox": [
           {
            "marker": {
             "colorbar": {
              "outlinewidth": 0,
              "ticks": ""
             }
            },
            "type": "scattermapbox"
           }
          ],
          "scatterpolar": [
           {
            "marker": {
             "colorbar": {
              "outlinewidth": 0,
              "ticks": ""
             }
            },
            "type": "scatterpolar"
           }
          ],
          "scatterpolargl": [
           {
            "marker": {
             "colorbar": {
              "outlinewidth": 0,
              "ticks": ""
             }
            },
            "type": "scatterpolargl"
           }
          ],
          "scatterternary": [
           {
            "marker": {
             "colorbar": {
              "outlinewidth": 0,
              "ticks": ""
             }
            },
            "type": "scatterternary"
           }
          ],
          "surface": [
           {
            "colorbar": {
             "outlinewidth": 0,
             "ticks": ""
            },
            "colorscale": [
             [
              0,
              "#0d0887"
             ],
             [
              0.1111111111111111,
              "#46039f"
             ],
             [
              0.2222222222222222,
              "#7201a8"
             ],
             [
              0.3333333333333333,
              "#9c179e"
             ],
             [
              0.4444444444444444,
              "#bd3786"
             ],
             [
              0.5555555555555556,
              "#d8576b"
             ],
             [
              0.6666666666666666,
              "#ed7953"
             ],
             [
              0.7777777777777778,
              "#fb9f3a"
             ],
             [
              0.8888888888888888,
              "#fdca26"
             ],
             [
              1,
              "#f0f921"
             ]
            ],
            "type": "surface"
           }
          ],
          "table": [
           {
            "cells": {
             "fill": {
              "color": "#EBF0F8"
             },
             "line": {
              "color": "white"
             }
            },
            "header": {
             "fill": {
              "color": "#C8D4E3"
             },
             "line": {
              "color": "white"
             }
            },
            "type": "table"
           }
          ]
         },
         "layout": {
          "annotationdefaults": {
           "arrowcolor": "#2a3f5f",
           "arrowhead": 0,
           "arrowwidth": 1
          },
          "autotypenumbers": "strict",
          "coloraxis": {
           "colorbar": {
            "outlinewidth": 0,
            "ticks": ""
           }
          },
          "colorscale": {
           "diverging": [
            [
             0,
             "#8e0152"
            ],
            [
             0.1,
             "#c51b7d"
            ],
            [
             0.2,
             "#de77ae"
            ],
            [
             0.3,
             "#f1b6da"
            ],
            [
             0.4,
             "#fde0ef"
            ],
            [
             0.5,
             "#f7f7f7"
            ],
            [
             0.6,
             "#e6f5d0"
            ],
            [
             0.7,
             "#b8e186"
            ],
            [
             0.8,
             "#7fbc41"
            ],
            [
             0.9,
             "#4d9221"
            ],
            [
             1,
             "#276419"
            ]
           ],
           "sequential": [
            [
             0,
             "#0d0887"
            ],
            [
             0.1111111111111111,
             "#46039f"
            ],
            [
             0.2222222222222222,
             "#7201a8"
            ],
            [
             0.3333333333333333,
             "#9c179e"
            ],
            [
             0.4444444444444444,
             "#bd3786"
            ],
            [
             0.5555555555555556,
             "#d8576b"
            ],
            [
             0.6666666666666666,
             "#ed7953"
            ],
            [
             0.7777777777777778,
             "#fb9f3a"
            ],
            [
             0.8888888888888888,
             "#fdca26"
            ],
            [
             1,
             "#f0f921"
            ]
           ],
           "sequentialminus": [
            [
             0,
             "#0d0887"
            ],
            [
             0.1111111111111111,
             "#46039f"
            ],
            [
             0.2222222222222222,
             "#7201a8"
            ],
            [
             0.3333333333333333,
             "#9c179e"
            ],
            [
             0.4444444444444444,
             "#bd3786"
            ],
            [
             0.5555555555555556,
             "#d8576b"
            ],
            [
             0.6666666666666666,
             "#ed7953"
            ],
            [
             0.7777777777777778,
             "#fb9f3a"
            ],
            [
             0.8888888888888888,
             "#fdca26"
            ],
            [
             1,
             "#f0f921"
            ]
           ]
          },
          "colorway": [
           "#636efa",
           "#EF553B",
           "#00cc96",
           "#ab63fa",
           "#FFA15A",
           "#19d3f3",
           "#FF6692",
           "#B6E880",
           "#FF97FF",
           "#FECB52"
          ],
          "font": {
           "color": "#2a3f5f"
          },
          "geo": {
           "bgcolor": "white",
           "lakecolor": "white",
           "landcolor": "#E5ECF6",
           "showlakes": true,
           "showland": true,
           "subunitcolor": "white"
          },
          "hoverlabel": {
           "align": "left"
          },
          "hovermode": "closest",
          "mapbox": {
           "style": "light"
          },
          "paper_bgcolor": "white",
          "plot_bgcolor": "#E5ECF6",
          "polar": {
           "angularaxis": {
            "gridcolor": "white",
            "linecolor": "white",
            "ticks": ""
           },
           "bgcolor": "#E5ECF6",
           "radialaxis": {
            "gridcolor": "white",
            "linecolor": "white",
            "ticks": ""
           }
          },
          "scene": {
           "xaxis": {
            "backgroundcolor": "#E5ECF6",
            "gridcolor": "white",
            "gridwidth": 2,
            "linecolor": "white",
            "showbackground": true,
            "ticks": "",
            "zerolinecolor": "white"
           },
           "yaxis": {
            "backgroundcolor": "#E5ECF6",
            "gridcolor": "white",
            "gridwidth": 2,
            "linecolor": "white",
            "showbackground": true,
            "ticks": "",
            "zerolinecolor": "white"
           },
           "zaxis": {
            "backgroundcolor": "#E5ECF6",
            "gridcolor": "white",
            "gridwidth": 2,
            "linecolor": "white",
            "showbackground": true,
            "ticks": "",
            "zerolinecolor": "white"
           }
          },
          "shapedefaults": {
           "line": {
            "color": "#2a3f5f"
           }
          },
          "ternary": {
           "aaxis": {
            "gridcolor": "white",
            "linecolor": "white",
            "ticks": ""
           },
           "baxis": {
            "gridcolor": "white",
            "linecolor": "white",
            "ticks": ""
           },
           "bgcolor": "#E5ECF6",
           "caxis": {
            "gridcolor": "white",
            "linecolor": "white",
            "ticks": ""
           }
          },
          "title": {
           "x": 0.05
          },
          "xaxis": {
           "automargin": true,
           "gridcolor": "white",
           "linecolor": "white",
           "ticks": "",
           "title": {
            "standoff": 15
           },
           "zerolinecolor": "white",
           "zerolinewidth": 2
          },
          "yaxis": {
           "automargin": true,
           "gridcolor": "white",
           "linecolor": "white",
           "ticks": "",
           "title": {
            "standoff": 15
           },
           "zerolinecolor": "white",
           "zerolinewidth": 2
          }
         }
        },
        "width": 900
       }
      },
      "image/png": "[encoded data removed]",
      "text/html": [
       "<div>                            <div id=\"aa6bfa59-501e-42a6-ab16-e4d49537825d\" class=\"plotly-graph-div\" style=\"height:400px; width:900px;\"></div>            <script type=\"text/javascript\">                require([\"plotly\"], function(Plotly) {                    window.PLOTLYENV=window.PLOTLYENV || {};                                    if (document.getElementById(\"aa6bfa59-501e-42a6-ab16-e4d49537825d\")) {                    Plotly.newPlot(                        \"aa6bfa59-501e-42a6-ab16-e4d49537825d\",                        [{\"coloraxis\":\"coloraxis\",\"customdata\":[[\"Finland\",\"1\"],[\"Denmark\",\"2\"],[\"Norway\",\"3\"],[\"Iceland\",\"4\"],[\"Netherlands\",\"5\"],[\"Switzerland\",\"6\"],[\"Sweden\",\"7\"],[\"New Zealand\",\"8\"],[\"Canada\",\"9\"],[\"Austria\",\"10\"],[\"Australia\",\"11\"],[\"Costa Rica\",\"12\"],[\"Israel\",\"13\"],[\"Luxembourg\",\"14\"],[\"United Kingdom\",\"15\"],[\"Ireland\",\"16\"],[\"Germany\",\"17\"],[\"Belgium\",\"18\"],[\"United States\",\"19\"],[\"Czech Republic\",\"20\"],[\"United Arab Emirates\",\"21\"],[\"Malta\",\"22\"],[\"Mexico\",\"23\"],[\"France\",\"24\"],[\"Taiwan\",\"25\"],[\"Chile\",\"26\"],[\"Guatemala\",\"27\"],[\"Saudi Arabia\",\"28\"],[\"Qatar\",\"29\"],[\"Spain\",\"30\"],[\"Panama\",\"31\"],[\"Brazil\",\"32\"],[\"Uruguay\",\"33\"],[\"Singapore\",\"34\"],[\"El Salvador\",\"35\"],[\"Italy\",\"36\"],[\"Bahrain\",\"37\"],[\"Slovakia\",\"38\"],[\"Trinidad & Tobago\",\"39\"],[\"Poland\",\"40\"],[\"Uzbekistan\",\"41\"],[\"Lithuania\",\"42\"],[\"Colombia\",\"43\"],[\"Slovenia\",\"44\"],[\"Nicaragua\",\"45\"],[\"Kosovo\",\"46\"],[\"Argentina\",\"47\"],[\"Romania\",\"48\"],[\"Cyprus\",\"49\"],[\"Ecuador\",\"50\"],[\"Kuwait\",\"51\"],[\"Thailand\",\"52\"],[\"Latvia\",\"53\"],[\"South Korea\",\"54\"],[\"Estonia\",\"55\"],[\"Jamaica\",\"56\"],[\"Mauritius\",\"57\"],[\"Japan\",\"58\"],[\"Honduras\",\"59\"],[\"Kazakhstan\",\"60\"],[\"Bolivia\",\"61\"],[\"Hungary\",\"62\"],[\"Paraguay\",\"63\"],[\"Northern Cyprus\",\"64\"],[\"Peru\",\"65\"],[\"Portugal\",\"66\"],[\"Pakistan\",\"67\"],[\"Russia\",\"68\"],[\"Philippines\",\"69\"],[\"Serbia\",\"70\"],[\"Moldova\",\"71\"],[\"Libya\",\"72\"],[\"Montenegro\",\"73\"],[\"Tajikistan\",\"74\"],[\"Croatia\",\"75\"],[\"Hong Kong\",\"76\"],[\"Dominican Republic\",\"77\"],[\"Bosnia and Herzegovina\",\"78\"],[\"Turkey\",\"79\"],[\"Malaysia\",\"80\"],[\"Belarus\",\"81\"],[\"Greece\",\"82\"],[\"Mongolia\",\"83\"],[\"North Macedonia\",\"84\"],[\"Nigeria\",\"85\"],[\"Kyrgyzstan\",\"86\"],[\"Turkmenistan\",\"87\"],[\"Algeria\",\"88\"],[\"Morocco\",\"89\"],[\"Azerbaijan\",\"90\"],[\"Lebanon\",\"91\"],[\"Indonesia\",\"92\"],[\"China\",\"93\"],[\"Vietnam\",\"94\"],[\"Bhutan\",\"95\"],[\"Cameroon\",\"96\"],[\"Bulgaria\",\"97\"],[\"Ghana\",\"98\"],[\"Ivory Coast\",\"99\"],[\"Nepal\",\"100\"],[\"Jordan\",\"101\"],[\"Benin\",\"102\"],[\"Congo (Brazzaville)\",\"103\"],[\"Gabon\",\"104\"],[\"Laos\",\"105\"],[\"South Africa\",\"106\"],[\"Albania\",\"107\"],[\"Venezuela\",\"108\"],[\"Cambodia\",\"109\"],[\"Palestinian Territories\",\"110\"],[\"Senegal\",\"111\"],[\"Somalia\",\"112\"],[\"Namibia\",\"113\"],[\"Niger\",\"114\"],[\"Burkina Faso\",\"115\"],[\"Armenia\",\"116\"],[\"Iran\",\"117\"],[\"Guinea\",\"118\"],[\"Georgia\",\"119\"],[\"Gambia\",\"120\"],[\"Kenya\",\"121\"],[\"Mauritania\",\"122\"],[\"Mozambique\",\"123\"],[\"Tunisia\",\"124\"],[\"Bangladesh\",\"125\"],[\"Iraq\",\"126\"],[\"Congo (Kinshasa)\",\"127\"],[\"Mali\",\"128\"],[\"Sierra Leone\",\"129\"],[\"Sri Lanka\",\"130\"],[\"Myanmar\",\"131\"],[\"Chad\",\"132\"],[\"Ukraine\",\"133\"],[\"Ethiopia\",\"134\"],[\"Swaziland\",\"135\"],[\"Uganda\",\"136\"],[\"Egypt\",\"137\"],[\"Zambia\",\"138\"],[\"Togo\",\"139\"],[\"India\",\"140\"],[\"Liberia\",\"141\"],[\"Comoros\",\"142\"],[\"Madagascar\",\"143\"],[\"Lesotho\",\"144\"],[\"Burundi\",\"145\"],[\"Zimbabwe\",\"146\"],[\"Haiti\",\"147\"],[\"Botswana\",\"148\"],[\"Syria\",\"149\"],[\"Malawi\",\"150\"],[\"Yemen\",\"151\"],[\"Rwanda\",\"152\"],[\"Tanzania\",\"153\"],[\"Afghanistan\",\"154\"],[\"Central African Republic\",\"155\"],[\"South Sudan\",\"156\"]],\"geo\":\"geo\",\"hovertemplate\":\"<b>%{hovertext}</b><br><br>Overall rank=%{customdata[1]}<br>Score=%{z}<extra></extra>\",\"hovertext\":[\"Finland\",\"Denmark\",\"Norway\",\"Iceland\",\"Netherlands\",\"Switzerland\",\"Sweden\",\"New Zealand\",\"Canada\",\"Austria\",\"Australia\",\"Costa Rica\",\"Israel\",\"Luxembourg\",\"United Kingdom\",\"Ireland\",\"Germany\",\"Belgium\",\"United States\",\"Czech Republic\",\"United Arab Emirates\",\"Malta\",\"Mexico\",\"France\",\"Taiwan\",\"Chile\",\"Guatemala\",\"Saudi Arabia\",\"Qatar\",\"Spain\",\"Panama\",\"Brazil\",\"Uruguay\",\"Singapore\",\"El Salvador\",\"Italy\",\"Bahrain\",\"Slovakia\",\"Trinidad & Tobago\",\"Poland\",\"Uzbekistan\",\"Lithuania\",\"Colombia\",\"Slovenia\",\"Nicaragua\",\"Kosovo\",\"Argentina\",\"Romania\",\"Cyprus\",\"Ecuador\",\"Kuwait\",\"Thailand\",\"Latvia\",\"South Korea\",\"Estonia\",\"Jamaica\",\"Mauritius\",\"Japan\",\"Honduras\",\"Kazakhstan\",\"Bolivia\",\"Hungary\",\"Paraguay\",\"Northern Cyprus\",\"Peru\",\"Portugal\",\"Pakistan\",\"Russia\",\"Philippines\",\"Serbia\",\"Moldova\",\"Libya\",\"Montenegro\",\"Tajikistan\",\"Croatia\",\"Hong Kong\",\"Dominican Republic\",\"Bosnia and Herzegovina\",\"Turkey\",\"Malaysia\",\"Belarus\",\"Greece\",\"Mongolia\",\"North Macedonia\",\"Nigeria\",\"Kyrgyzstan\",\"Turkmenistan\",\"Algeria\",\"Morocco\",\"Azerbaijan\",\"Lebanon\",\"Indonesia\",\"China\",\"Vietnam\",\"Bhutan\",\"Cameroon\",\"Bulgaria\",\"Ghana\",\"Ivory Coast\",\"Nepal\",\"Jordan\",\"Benin\",\"Congo (Brazzaville)\",\"Gabon\",\"Laos\",\"South Africa\",\"Albania\",\"Venezuela\",\"Cambodia\",\"Palestinian Territories\",\"Senegal\",\"Somalia\",\"Namibia\",\"Niger\",\"Burkina Faso\",\"Armenia\",\"Iran\",\"Guinea\",\"Georgia\",\"Gambia\",\"Kenya\",\"Mauritania\",\"Mozambique\",\"Tunisia\",\"Bangladesh\",\"Iraq\",\"Congo (Kinshasa)\",\"Mali\",\"Sierra Leone\",\"Sri Lanka\",\"Myanmar\",\"Chad\",\"Ukraine\",\"Ethiopia\",\"Swaziland\",\"Uganda\",\"Egypt\",\"Zambia\",\"Togo\",\"India\",\"Liberia\",\"Comoros\",\"Madagascar\",\"Lesotho\",\"Burundi\",\"Zimbabwe\",\"Haiti\",\"Botswana\",\"Syria\",\"Malawi\",\"Yemen\",\"Rwanda\",\"Tanzania\",\"Afghanistan\",\"Central African Republic\",\"South Sudan\"],\"locationmode\":\"country names\",\"locations\":[\"Finland\",\"Denmark\",\"Norway\",\"Iceland\",\"Netherlands\",\"Switzerland\",\"Sweden\",\"New Zealand\",\"Canada\",\"Austria\",\"Australia\",\"Costa Rica\",\"Israel\",\"Luxembourg\",\"United Kingdom\",\"Ireland\",\"Germany\",\"Belgium\",\"United States\",\"Czech Republic\",\"United Arab Emirates\",\"Malta\",\"Mexico\",\"France\",\"Taiwan\",\"Chile\",\"Guatemala\",\"Saudi Arabia\",\"Qatar\",\"Spain\",\"Panama\",\"Brazil\",\"Uruguay\",\"Singapore\",\"El Salvador\",\"Italy\",\"Bahrain\",\"Slovakia\",\"Trinidad & Tobago\",\"Poland\",\"Uzbekistan\",\"Lithuania\",\"Colombia\",\"Slovenia\",\"Nicaragua\",\"Kosovo\",\"Argentina\",\"Romania\",\"Cyprus\",\"Ecuador\",\"Kuwait\",\"Thailand\",\"Latvia\",\"South Korea\",\"Estonia\",\"Jamaica\",\"Mauritius\",\"Japan\",\"Honduras\",\"Kazakhstan\",\"Bolivia\",\"Hungary\",\"Paraguay\",\"Northern Cyprus\",\"Peru\",\"Portugal\",\"Pakistan\",\"Russia\",\"Philippines\",\"Serbia\",\"Moldova\",\"Libya\",\"Montenegro\",\"Tajikistan\",\"Croatia\",\"Hong Kong\",\"Dominican Republic\",\"Bosnia and Herzegovina\",\"Turkey\",\"Malaysia\",\"Belarus\",\"Greece\",\"Mongolia\",\"North Macedonia\",\"Nigeria\",\"Kyrgyzstan\",\"Turkmenistan\",\"Algeria\",\"Morocco\",\"Azerbaijan\",\"Lebanon\",\"Indonesia\",\"China\",\"Vietnam\",\"Bhutan\",\"Cameroon\",\"Bulgaria\",\"Ghana\",\"Ivory Coast\",\"Nepal\",\"Jordan\",\"Benin\",\"Congo (Brazzaville)\",\"Gabon\",\"Laos\",\"South Africa\",\"Albania\",\"Venezuela\",\"Cambodia\",\"Palestinian Territories\",\"Senegal\",\"Somalia\",\"Namibia\",\"Niger\",\"Burkina Faso\",\"Armenia\",\"Iran\",\"Guinea\",\"Georgia\",\"Gambia\",\"Kenya\",\"Mauritania\",\"Mozambique\",\"Tunisia\",\"Bangladesh\",\"Iraq\",\"Congo (Kinshasa)\",\"Mali\",\"Sierra Leone\",\"Sri Lanka\",\"Myanmar\",\"Chad\",\"Ukraine\",\"Ethiopia\",\"Swaziland\",\"Uganda\",\"Egypt\",\"Zambia\",\"Togo\",\"India\",\"Liberia\",\"Comoros\",\"Madagascar\",\"Lesotho\",\"Burundi\",\"Zimbabwe\",\"Haiti\",\"Botswana\",\"Syria\",\"Malawi\",\"Yemen\",\"Rwanda\",\"Tanzania\",\"Afghanistan\",\"Central African Republic\",\"South Sudan\"],\"name\":\"\",\"z\":[7.769,7.6,7.554,7.494,7.488,7.48,7.343,7.307,7.278,7.246,7.228,7.167,7.139,7.09,7.054,7.021,6.985,6.923,6.892,6.852,6.825,6.726,6.595,6.592,6.446,6.444,6.436,6.375,6.374,6.354,6.321,6.3,6.293,6.262,6.253,6.223,6.199,6.198,6.192,6.182,6.174,6.149,6.125,6.118,6.105,6.1,6.086,6.07,6.046,6.028,6.021,6.008,5.94,5.895,5.893,5.89,5.888,5.886,5.86,5.809,5.779,5.758,5.743,5.718,5.697,5.693,5.653,5.648,5.631,5.603,5.529,5.525,5.523,5.467,5.432,5.43,5.425,5.386,5.373,5.339,5.323,5.287,5.285,5.274,5.265,5.261,5.247,5.211,5.208,5.208,5.197,5.192,5.191,5.175,5.082,5.044,5.011,4.996,4.944,4.913,4.906,4.883,4.812,4.799,4.796,4.722,4.719,4.707,4.7,4.696,4.681,4.668,4.639,4.628,4.587,4.559,4.548,4.534,4.519,4.516,4.509,4.49,4.466,4.461,4.456,4.437,4.418,4.39,4.374,4.366,4.36,4.35,4.332,4.286,4.212,4.189,4.166,4.107,4.085,4.015,3.975,3.973,3.933,3.802,3.775,3.663,3.597,3.488,3.462,3.41,3.38,3.334,3.231,3.203,3.083,2.853],\"type\":\"choropleth\"}],                        {\"template\":{\"data\":{\"bar\":[{\"error_x\":{\"color\":\"#2a3f5f\"},\"error_y\":{\"color\":\"#2a3f5f\"},\"marker\":{\"line\":{\"color\":\"#E5ECF6\",\"width\":0.5},\"pattern\":{\"fillmode\":\"overlay\",\"size\":10,\"solidity\":0.2}},\"type\":\"bar\"}],\"barpolar\":[{\"marker\":{\"line\":{\"color\":\"#E5ECF6\",\"width\":0.5},\"pattern\":{\"fillmode\":\"overlay\",\"size\":10,\"solidity\":0.2}},\"type\":\"barpolar\"}],\"carpet\":[{\"aaxis\":{\"endlinecolor\":\"#2a3f5f\",\"gridcolor\":\"white\",\"linecolor\":\"white\",\"minorgridcolor\":\"white\",\"startlinecolor\":\"#2a3f5f\"},\"baxis\":{\"endlinecolor\":\"#2a3f5f\",\"gridcolor\":\"white\",\"linecolor\":\"white\",\"minorgridcolor\":\"white\",\"startlinecolor\":\"#2a3f5f\"},\"type\":\"carpet\"}],\"choropleth\":[{\"colorbar\":{\"outlinewidth\":0,\"ticks\":\"\"},\"type\":\"choropleth\"}],\"contour\":[{\"colorbar\":{\"outlinewidth\":0,\"ticks\":\"\"},\"colorscale\":[[0.0,\"#0d0887\"],[0.1111111111111111,\"#46039f\"],[0.2222222222222222,\"#7201a8\"],[0.3333333333333333,\"#9c179e\"],[0.4444444444444444,\"#bd3786\"],[0.5555555555555556,\"#d8576b\"],[0.6666666666666666,\"#ed7953\"],[0.7777777777777778,\"#fb9f3a\"],[0.8888888888888888,\"#fdca26\"],[1.0,\"#f0f921\"]],\"type\":\"contour\"}],\"contourcarpet\":[{\"colorbar\":{\"outlinewidth\":0,\"ticks\":\"\"},\"type\":\"contourcarpet\"}],\"heatmap\":[{\"colorbar\":{\"outlinewidth\":0,\"ticks\":\"\"},\"colorscale\":[[0.0,\"#0d0887\"],[0.1111111111111111,\"#46039f\"],[0.2222222222222222,\"#7201a8\"],[0.3333333333333333,\"#9c179e\"],[0.4444444444444444,\"#bd3786\"],[0.5555555555555556,\"#d8576b\"],[0.6666666666666666,\"#ed7953\"],[0.7777777777777778,\"#fb9f3a\"],[0.8888888888888888,\"#fdca26\"],[1.0,\"#f0f921\"]],\"type\":\"heatmap\"}],\"heatmapgl\":[{\"colorbar\":{\"outlinewidth\":0,\"ticks\":\"\"},\"colorscale\":[[0.0,\"#0d0887\"],[0.1111111111111111,\"#46039f\"],[0.2222222222222222,\"#7201a8\"],[0.3333333333333333,\"#9c179e\"],[0.4444444444444444,\"#bd3786\"],[0.5555555555555556,\"#d8576b\"],[0.6666666666666666,\"#ed7953\"],[0.7777777777777778,\"#fb9f3a\"],[0.8888888888888888,\"#fdca26\"],[1.0,\"#f0f921\"]],\"type\":\"heatmapgl\"}],\"histogram\":[{\"marker\":{\"pattern\":{\"fillmode\":\"overlay\",\"size\":10,\"solidity\":0.2}},\"type\":\"histogram\"}],\"histogram2d\":[{\"colorbar\":{\"outlinewidth\":0,\"ticks\":\"\"},\"colorscale\":[[0.0,\"#0d0887\"],[0.1111111111111111,\"#46039f\"],[0.2222222222222222,\"#7201a8\"],[0.3333333333333333,\"#9c179e\"],[0.4444444444444444,\"#bd3786\"],[0.5555555555555556,\"#d8576b\"],[0.6666666666666666,\"#ed7953\"],[0.7777777777777778,\"#fb9f3a\"],[0.8888888888888888,\"#fdca26\"],[1.0,\"#f0f921\"]],\"type\":\"histogram2d\"}],\"histogram2dcontour\":[{\"colorbar\":{\"outlinewidth\":0,\"ticks\":\"\"},\"colorscale\":[[0.0,\"#0d0887\"],[0.1111111111111111,\"#46039f\"],[0.2222222222222222,\"#7201a8\"],[0.3333333333333333,\"#9c179e\"],[0.4444444444444444,\"#bd3786\"],[0.5555555555555556,\"#d8576b\"],[0.6666666666666666,\"#ed7953\"],[0.7777777777777778,\"#fb9f3a\"],[0.8888888888888888,\"#fdca26\"],[1.0,\"#f0f921\"]],\"type\":\"histogram2dcontour\"}],\"mesh3d\":[{\"colorbar\":{\"outlinewidth\":0,\"ticks\":\"\"},\"type\":\"mesh3d\"}],\"parcoords\":[{\"line\":{\"colorbar\":{\"outlinewidth\":0,\"ticks\":\"\"}},\"type\":\"parcoords\"}],\"pie\":[{\"automargin\":true,\"type\":\"pie\"}],\"scatter\":[{\"marker\":{\"colorbar\":{\"outlinewidth\":0,\"ticks\":\"\"}},\"type\":\"scatter\"}],\"scatter3d\":[{\"line\":{\"colorbar\":{\"outlinewidth\":0,\"ticks\":\"\"}},\"marker\":{\"colorbar\":{\"outlinewidth\":0,\"ticks\":\"\"}},\"type\":\"scatter3d\"}],\"scattercarpet\":[{\"marker\":{\"colorbar\":{\"outlinewidth\":0,\"ticks\":\"\"}},\"type\":\"scattercarpet\"}],\"scattergeo\":[{\"marker\":{\"colorbar\":{\"outlinewidth\":0,\"ticks\":\"\"}},\"type\":\"scattergeo\"}],\"scattergl\":[{\"marker\":{\"colorbar\":{\"outlinewidth\":0,\"ticks\":\"\"}},\"type\":\"scattergl\"}],\"scattermapbox\":[{\"marker\":{\"colorbar\":{\"outlinewidth\":0,\"ticks\":\"\"}},\"type\":\"scattermapbox\"}],\"scatterpolar\":[{\"marker\":{\"colorbar\":{\"outlinewidth\":0,\"ticks\":\"\"}},\"type\":\"scatterpolar\"}],\"scatterpolargl\":[{\"marker\":{\"colorbar\":{\"outlinewidth\":0,\"ticks\":\"\"}},\"type\":\"scatterpolargl\"}],\"scatterternary\":[{\"marker\":{\"colorbar\":{\"outlinewidth\":0,\"ticks\":\"\"}},\"type\":\"scatterternary\"}],\"surface\":[{\"colorbar\":{\"outlinewidth\":0,\"ticks\":\"\"},\"colorscale\":[[0.0,\"#0d0887\"],[0.1111111111111111,\"#46039f\"],[0.2222222222222222,\"#7201a8\"],[0.3333333333333333,\"#9c179e\"],[0.4444444444444444,\"#bd3786\"],[0.5555555555555556,\"#d8576b\"],[0.6666666666666666,\"#ed7953\"],[0.7777777777777778,\"#fb9f3a\"],[0.8888888888888888,\"#fdca26\"],[1.0,\"#f0f921\"]],\"type\":\"surface\"}],\"table\":[{\"cells\":{\"fill\":{\"color\":\"#EBF0F8\"},\"line\":{\"color\":\"white\"}},\"header\":{\"fill\":{\"color\":\"#C8D4E3\"},\"line\":{\"color\":\"white\"}},\"type\":\"table\"}]},\"layout\":{\"annotationdefaults\":{\"arrowcolor\":\"#2a3f5f\",\"arrowhead\":0,\"arrowwidth\":1},\"autotypenumbers\":\"strict\",\"coloraxis\":{\"colorbar\":{\"outlinewidth\":0,\"ticks\":\"\"}},\"colorscale\":{\"diverging\":[[0,\"#8e0152\"],[0.1,\"#c51b7d\"],[0.2,\"#de77ae\"],[0.3,\"#f1b6da\"],[0.4,\"#fde0ef\"],[0.5,\"#f7f7f7\"],[0.6,\"#e6f5d0\"],[0.7,\"#b8e186\"],[0.8,\"#7fbc41\"],[0.9,\"#4d9221\"],[1,\"#276419\"]],\"sequential\":[[0.0,\"#0d0887\"],[0.1111111111111111,\"#46039f\"],[0.2222222222222222,\"#7201a8\"],[0.3333333333333333,\"#9c179e\"],[0.4444444444444444,\"#bd3786\"],[0.5555555555555556,\"#d8576b\"],[0.6666666666666666,\"#ed7953\"],[0.7777777777777778,\"#fb9f3a\"],[0.8888888888888888,\"#fdca26\"],[1.0,\"#f0f921\"]],\"sequentialminus\":[[0.0,\"#0d0887\"],[0.1111111111111111,\"#46039f\"],[0.2222222222222222,\"#7201a8\"],[0.3333333333333333,\"#9c179e\"],[0.4444444444444444,\"#bd3786\"],[0.5555555555555556,\"#d8576b\"],[0.6666666666666666,\"#ed7953\"],[0.7777777777777778,\"#fb9f3a\"],[0.8888888888888888,\"#fdca26\"],[1.0,\"#f0f921\"]]},\"colorway\":[\"#636efa\",\"#EF553B\",\"#00cc96\",\"#ab63fa\",\"#FFA15A\",\"#19d3f3\",\"#FF6692\",\"#B6E880\",\"#FF97FF\",\"#FECB52\"],\"font\":{\"color\":\"#2a3f5f\"},\"geo\":{\"bgcolor\":\"white\",\"lakecolor\":\"white\",\"landcolor\":\"#E5ECF6\",\"showlakes\":true,\"showland\":true,\"subunitcolor\":\"white\"},\"hoverlabel\":{\"align\":\"left\"},\"hovermode\":\"closest\",\"mapbox\":{\"style\":\"light\"},\"paper_bgcolor\":\"white\",\"plot_bgcolor\":\"#E5ECF6\",\"polar\":{\"angularaxis\":{\"gridcolor\":\"white\",\"linecolor\":\"white\",\"ticks\":\"\"},\"bgcolor\":\"#E5ECF6\",\"radialaxis\":{\"gridcolor\":\"white\",\"linecolor\":\"white\",\"ticks\":\"\"}},\"scene\":{\"xaxis\":{\"backgroundcolor\":\"#E5ECF6\",\"gridcolor\":\"white\",\"gridwidth\":2,\"linecolor\":\"white\",\"showbackground\":true,\"ticks\":\"\",\"zerolinecolor\":\"white\"},\"yaxis\":{\"backgroundcolor\":\"#E5ECF6\",\"gridcolor\":\"white\",\"gridwidth\":2,\"linecolor\":\"white\",\"showbackground\":true,\"ticks\":\"\",\"zerolinecolor\":\"white\"},\"zaxis\":{\"backgroundcolor\":\"#E5ECF6\",\"gridcolor\":\"white\",\"gridwidth\":2,\"linecolor\":\"white\",\"showbackground\":true,\"ticks\":\"\",\"zerolinecolor\":\"white\"}},\"shapedefaults\":{\"line\":{\"color\":\"#2a3f5f\"}},\"ternary\":{\"aaxis\":{\"gridcolor\":\"white\",\"linecolor\":\"white\",\"ticks\":\"\"},\"baxis\":{\"gridcolor\":\"white\",\"linecolor\":\"white\",\"ticks\":\"\"},\"bgcolor\":\"#E5ECF6\",\"caxis\":{\"gridcolor\":\"white\",\"linecolor\":\"white\",\"ticks\":\"\"}},\"title\":{\"x\":0.05},\"xaxis\":{\"automargin\":true,\"gridcolor\":\"white\",\"linecolor\":\"white\",\"ticks\":\"\",\"title\":{\"standoff\":15},\"zerolinecolor\":\"white\",\"zerolinewidth\":2},\"yaxis\":{\"automargin\":true,\"gridcolor\":\"white\",\"linecolor\":\"white\",\"ticks\":\"\",\"title\":{\"standoff\":15},\"zerolinecolor\":\"white\",\"zerolinewidth\":2}}},\"geo\":{\"domain\":{\"x\":[0.0,1.0],\"y\":[0.0,1.0]},\"center\":{}},\"coloraxis\":{\"colorbar\":{\"title\":{\"text\":\"Score\"}},\"colorscale\":[[0.0,\"#0d0887\"],[0.1111111111111111,\"#46039f\"],[0.2222222222222222,\"#7201a8\"],[0.3333333333333333,\"#9c179e\"],[0.4444444444444444,\"#bd3786\"],[0.5555555555555556,\"#d8576b\"],[0.6666666666666666,\"#ed7953\"],[0.7777777777777778,\"#fb9f3a\"],[0.8888888888888888,\"#fdca26\"],[1.0,\"#f0f921\"]]},\"legend\":{\"tracegroupgap\":0},\"margin\":{\"t\":0,\"r\":0,\"l\":0,\"b\":0},\"width\":900,\"height\":400},                        {\"responsive\": true}                    ).then(function(){\n",
       "                            \n",
       "var gd = document.getElementById('aa6bfa59-501e-42a6-ab16-e4d49537825d');\n",
       "var x = new MutationObserver(function (mutations, observer) {{\n",
       "        var display = window.getComputedStyle(gd).display;\n",
       "        if (!display || display === 'none') {{\n",
       "            console.log([gd, 'removed!']);\n",
       "            Plotly.purge(gd);\n",
       "            observer.disconnect();\n",
       "        }}\n",
       "}});\n",
       "\n",
       "// Listen for the removal of the full notebook cells\n",
       "var notebookContainer = gd.closest('#notebook-container');\n",
       "if (notebookContainer) {{\n",
       "    x.observe(notebookContainer, {childList: true});\n",
       "}}\n",
       "\n",
       "// Listen for the clearing of the current output cell\n",
       "var outputEl = gd.closest('.output');\n",
       "if (outputEl) {{\n",
       "    x.observe(outputEl, {childList: true});\n",
       "}}\n",
       "\n",
       "                        })                };                });            </script>        </div>"
      ]
     },
     "metadata": {},
     "output_type": "display_data"
    }
   ],
   "source": [
    "import plotly.offline as py\n",
    "py.init_notebook_mode(connected=True)\n",
    "import plotly.express as px\n",
    "\n",
    "fig = px.choropleth(happiness_df, locations='Country or region',\n",
    "                    locationmode = \"country names\",\n",
    "                    color=\"Score\",\n",
    "                    hover_name = 'Country or region',\n",
    "                    hover_data={'Country or region':False, 'Overall rank': True}\n",
    "                   )\n",
    "\n",
    "fig.update_layout(width=900, height=400, margin={\"r\":0,\"t\":0,\"l\":0,\"b\":0})\n",
    "fig.show()"
   ]
  },
  {
   "cell_type": "markdown",
   "id": "c61f5d06-448a-451b-9d56-c9eb74cb791b",
   "metadata": {},
   "source": [
    "### Data preprocessing"
   ]
  },
  {
   "cell_type": "code",
   "execution_count": 27,
   "id": "1d4ffed5-abe6-4c0b-86ef-70eb040b87d6",
   "metadata": {},
   "outputs": [],
   "source": [
    "training_input_data = happiness_df.drop(['Overall rank', 'Country or region', 'Score'], axis=1)"
   ]
  },
  {
   "cell_type": "code",
   "execution_count": 28,
   "id": "574285df-9e83-4170-bac2-d4f874e9efee",
   "metadata": {},
   "outputs": [],
   "source": [
    "training_labels = happiness_df['Score']"
   ]
  },
  {
   "cell_type": "code",
   "execution_count": 29,
   "id": "9bb9d9a8-27d1-4847-a5da-d8a642dc958d",
   "metadata": {},
   "outputs": [
    {
     "data": {
      "text/html": [
       "<div>\n",
       "<style scoped>\n",
       "    .dataframe tbody tr th:only-of-type {\n",
       "        vertical-align: middle;\n",
       "    }\n",
       "\n",
       "    .dataframe tbody tr th {\n",
       "        vertical-align: top;\n",
       "    }\n",
       "\n",
       "    .dataframe thead th {\n",
       "        text-align: right;\n",
       "    }\n",
       "</style>\n",
       "<table border=\"1\" class=\"dataframe\">\n",
       "  <thead>\n",
       "    <tr style=\"text-align: right;\">\n",
       "      <th></th>\n",
       "      <th>GDP per capita</th>\n",
       "      <th>Social support</th>\n",
       "      <th>Healthy life expectancy</th>\n",
       "      <th>Freedom to make life choices</th>\n",
       "      <th>Generosity</th>\n",
       "      <th>Perceptions of corruption</th>\n",
       "    </tr>\n",
       "  </thead>\n",
       "  <tbody>\n",
       "    <tr>\n",
       "      <th>0</th>\n",
       "      <td>1.340</td>\n",
       "      <td>1.587</td>\n",
       "      <td>0.986</td>\n",
       "      <td>0.596</td>\n",
       "      <td>0.153</td>\n",
       "      <td>0.393</td>\n",
       "    </tr>\n",
       "    <tr>\n",
       "      <th>1</th>\n",
       "      <td>1.383</td>\n",
       "      <td>1.573</td>\n",
       "      <td>0.996</td>\n",
       "      <td>0.592</td>\n",
       "      <td>0.252</td>\n",
       "      <td>0.410</td>\n",
       "    </tr>\n",
       "    <tr>\n",
       "      <th>2</th>\n",
       "      <td>1.488</td>\n",
       "      <td>1.582</td>\n",
       "      <td>1.028</td>\n",
       "      <td>0.603</td>\n",
       "      <td>0.271</td>\n",
       "      <td>0.341</td>\n",
       "    </tr>\n",
       "  </tbody>\n",
       "</table>\n",
       "</div>"
      ],
      "text/plain": [
       "   GDP per capita  Social support  Healthy life expectancy  \\\n",
       "0           1.340           1.587                    0.986   \n",
       "1           1.383           1.573                    0.996   \n",
       "2           1.488           1.582                    1.028   \n",
       "\n",
       "   Freedom to make life choices  Generosity  Perceptions of corruption  \n",
       "0                         0.596       0.153                      0.393  \n",
       "1                         0.592       0.252                      0.410  \n",
       "2                         0.603       0.271                      0.341  "
      ]
     },
     "execution_count": 29,
     "metadata": {},
     "output_type": "execute_result"
    }
   ],
   "source": [
    "training_input_data.head(3)"
   ]
  },
  {
   "cell_type": "code",
   "execution_count": 30,
   "id": "9524b578-6328-4ed6-a533-7eb03f1c32af",
   "metadata": {},
   "outputs": [
    {
     "data": {
      "text/plain": [
       "0    7.769\n",
       "1    7.600\n",
       "2    7.554\n",
       "Name: Score, dtype: float64"
      ]
     },
     "execution_count": 30,
     "metadata": {},
     "output_type": "execute_result"
    }
   ],
   "source": [
    "training_labels.head(3)"
   ]
  },
  {
   "cell_type": "code",
   "execution_count": 31,
   "id": "78436ecf-90e4-4071-b0e3-b6b3b0e08ff2",
   "metadata": {},
   "outputs": [],
   "source": [
    "X_train, X_test, y_train, y_test = train_test_split(training_input_data, training_labels, test_size = 0.2, random_state=1)"
   ]
  },
  {
   "cell_type": "code",
   "execution_count": 32,
   "id": "72d91e76-d339-4af6-9ec6-35f5c3cc23c1",
   "metadata": {},
   "outputs": [
    {
     "name": "stdout",
     "output_type": "stream",
     "text": [
      "     GDP per capita  Social support  Healthy life expectancy  \\\n",
      "66            0.677           0.886                    0.535   \n",
      "33            1.572           1.463                    1.141   \n",
      "141           0.274           0.757                    0.505   \n",
      "59            1.173           1.508                    0.729   \n",
      "127           0.385           1.105                    0.308   \n",
      "..              ...             ...                      ...   \n",
      "133           0.336           1.033                    0.532   \n",
      "137           0.578           1.058                    0.426   \n",
      "72            1.051           1.361                    0.871   \n",
      "140           0.073           0.922                    0.443   \n",
      "37            1.246           1.504                    0.881   \n",
      "\n",
      "     Freedom to make life choices  Generosity  Perceptions of corruption  \n",
      "66                          0.313       0.220                      0.098  \n",
      "33                          0.556       0.271                      0.453  \n",
      "141                         0.142       0.275                      0.078  \n",
      "59                          0.410       0.146                      0.096  \n",
      "127                         0.327       0.153                      0.052  \n",
      "..                            ...         ...                        ...  \n",
      "133                         0.344       0.209                      0.100  \n",
      "137                         0.431       0.247                      0.087  \n",
      "72                          0.197       0.142                      0.080  \n",
      "140                         0.370       0.233                      0.033  \n",
      "37                          0.334       0.121                      0.014  \n",
      "\n",
      "[124 rows x 6 columns]\n"
     ]
    }
   ],
   "source": [
    "print(X_train)"
   ]
  },
  {
   "cell_type": "markdown",
   "id": "fa7ffa72-280e-468c-b1e6-0c66e7559ff5",
   "metadata": {},
   "source": [
    "### Feature scaling"
   ]
  },
  {
   "cell_type": "code",
   "execution_count": 33,
   "id": "e1544aea-f671-4e3e-a96c-dd85d5d3b824",
   "metadata": {},
   "outputs": [],
   "source": [
    "scaler = StandardScaler()\n",
    "\n",
    "X_train = scaler.fit_transform(X_train)\n",
    "X_test = scaler.transform(X_test)"
   ]
  },
  {
   "cell_type": "code",
   "execution_count": 34,
   "id": "810df4ed-c6b1-463a-8709-369e99cccf4c",
   "metadata": {},
   "outputs": [
    {
     "name": "stdout",
     "output_type": "stream",
     "text": [
      "(124, 6) (32, 6) (124,) (32,)\n"
     ]
    }
   ],
   "source": [
    "print(X_train.shape, X_test.shape, y_train.shape, y_test.shape)"
   ]
  },
  {
   "cell_type": "markdown",
   "id": "ab07184d-f612-488e-9d08-d791e6125dd1",
   "metadata": {},
   "source": [
    "### Training the models"
   ]
  },
  {
   "cell_type": "markdown",
   "id": "518f7c9c-82a6-45f2-bd97-4e3f6f52dd65",
   "metadata": {},
   "source": [
    "#### I decided to train 4 famous models with the default parameters: the Linear Regression, the Decision Tree Regression, the Random Forest and the Support Vector Regression "
   ]
  },
  {
   "cell_type": "markdown",
   "id": "aacd1fad-04e6-472c-975c-8f6c66b6cdf4",
   "metadata": {},
   "source": [
    "#### Linear Regression"
   ]
  },
  {
   "cell_type": "code",
   "execution_count": 35,
   "id": "e300af21-87f7-4e58-8d28-0093559431dd",
   "metadata": {},
   "outputs": [],
   "source": [
    "from sklearn.linear_model import LinearRegression\n",
    "\n",
    "linreg_model = LinearRegression()"
   ]
  },
  {
   "cell_type": "code",
   "execution_count": 36,
   "id": "7fe27597-76fb-447c-aaf1-139ea3e5156c",
   "metadata": {},
   "outputs": [
    {
     "data": {
      "text/plain": [
       "LinearRegression()"
      ]
     },
     "execution_count": 36,
     "metadata": {},
     "output_type": "execute_result"
    }
   ],
   "source": [
    "linreg_model.fit(X_train, y_train)"
   ]
  },
  {
   "cell_type": "code",
   "execution_count": 37,
   "id": "20a74137-9718-480c-a991-2c1d1a2054f1",
   "metadata": {},
   "outputs": [
    {
     "data": {
      "text/plain": [
       "array([0.30048915, 0.36793081, 0.24085689, 0.19198326, 0.04030445,\n",
       "       0.11094257])"
      ]
     },
     "execution_count": 37,
     "metadata": {},
     "output_type": "execute_result"
    }
   ],
   "source": [
    "linreg_model.coef_"
   ]
  },
  {
   "cell_type": "code",
   "execution_count": 38,
   "id": "dc3c32ef-1e23-4c00-a82f-3cbbe57d0439",
   "metadata": {},
   "outputs": [
    {
     "data": {
      "text/plain": [
       "5.413032258064516"
      ]
     },
     "execution_count": 38,
     "metadata": {},
     "output_type": "execute_result"
    }
   ],
   "source": [
    "linreg_model.intercept_"
   ]
  },
  {
   "cell_type": "code",
   "execution_count": 39,
   "id": "e555d0d3-c3dd-4b15-92a4-93f8d35ee719",
   "metadata": {},
   "outputs": [],
   "source": [
    "predictions = linreg_model.predict(X_test)"
   ]
  },
  {
   "cell_type": "code",
   "execution_count": 40,
   "id": "f4da4280-5df5-49d5-82ed-ee8090ff8c22",
   "metadata": {},
   "outputs": [
    {
     "name": "stdout",
     "output_type": "stream",
     "text": [
      "0.42729923649894674\n"
     ]
    }
   ],
   "source": [
    "mse = mean_squared_error(y_test, predictions)\n",
    "\n",
    "rmse = np.sqrt(mse)\n",
    "print(rmse)"
   ]
  },
  {
   "cell_type": "markdown",
   "id": "994d8a4a-7a3c-4c14-886e-66adeb3a7956",
   "metadata": {},
   "source": [
    "#### Visualizing the model"
   ]
  },
  {
   "cell_type": "markdown",
   "id": "00892004-3f92-4965-8ef0-18338020331f",
   "metadata": {},
   "source": [
    "##### OK. let's see the other models "
   ]
  },
  {
   "cell_type": "code",
   "execution_count": 41,
   "id": "3fea032e-9031-4b00-bc8a-d83e80a7f0ed",
   "metadata": {},
   "outputs": [
    {
     "data": {
      "text/plain": [
       "<AxesSubplot:xlabel='Score'>"
      ]
     },
     "execution_count": 41,
     "metadata": {},
     "output_type": "execute_result"
    },
    {
     "data": {
      "image/png": "[encoded data removed]",
      "text/plain": [
       "<Figure size 432x288 with 1 Axes>"
      ]
     },
     "metadata": {},
     "output_type": "display_data"
    }
   ],
   "source": [
    "sns.regplot(x=y_test, y=predictions, ci=None)"
   ]
  },
  {
   "cell_type": "markdown",
   "id": "fab78406-ef63-418a-b9f6-3a9042a2bab2",
   "metadata": {},
   "source": [
    "#### Decision Tree Regression"
   ]
  },
  {
   "cell_type": "code",
   "execution_count": 42,
   "id": "fc75062d-a95d-466d-ae70-2434905fc25c",
   "metadata": {},
   "outputs": [],
   "source": [
    "from sklearn.tree import DecisionTreeRegressor\n",
    "\n",
    "decreg_model = DecisionTreeRegressor()"
   ]
  },
  {
   "cell_type": "code",
   "execution_count": 43,
   "id": "9b840653-8dbe-49fe-8fe9-9527c5dfde9e",
   "metadata": {},
   "outputs": [
    {
     "data": {
      "text/plain": [
       "DecisionTreeRegressor()"
      ]
     },
     "execution_count": 43,
     "metadata": {},
     "output_type": "execute_result"
    }
   ],
   "source": [
    "decreg_model.fit(X_train, y_train)"
   ]
  },
  {
   "cell_type": "code",
   "execution_count": 44,
   "id": "4d1cb65c-9eed-4f45-b9d9-e3bbadfe65c1",
   "metadata": {},
   "outputs": [],
   "source": [
    "predictions_DT = decreg_model.predict(X_test)"
   ]
  },
  {
   "cell_type": "code",
   "execution_count": 45,
   "id": "d6835cbb-adf7-4c59-8b46-4eda9ea19e17",
   "metadata": {},
   "outputs": [
    {
     "name": "stdout",
     "output_type": "stream",
     "text": [
      "0.6946487421711782\n"
     ]
    }
   ],
   "source": [
    "mse = mean_squared_error(y_test, predictions_DT)\n",
    "\n",
    "rmse = np.sqrt(mse)\n",
    "print(rmse)"
   ]
  },
  {
   "cell_type": "markdown",
   "id": "7403c9fc-4b86-479f-95bb-6395b5518a40",
   "metadata": {},
   "source": [
    "##### Decision Tree Regression is not the best choice for this dataset."
   ]
  },
  {
   "cell_type": "code",
   "execution_count": 46,
   "id": "72b42e4f-340b-4672-a378-fe2c54279bb3",
   "metadata": {},
   "outputs": [
    {
     "data": {
      "text/plain": [
       "<AxesSubplot:xlabel='Score'>"
      ]
     },
     "execution_count": 46,
     "metadata": {},
     "output_type": "execute_result"
    },
    {
     "data": {
      "image/png": "[encoded data removed]",
      "text/plain": [
       "<Figure size 432x288 with 1 Axes>"
      ]
     },
     "metadata": {},
     "output_type": "display_data"
    }
   ],
   "source": [
    "sns.regplot(x=y_test, y=predictions_DT, ci=None)"
   ]
  },
  {
   "cell_type": "markdown",
   "id": "54999081-e4c1-4ffe-89b8-0c524280225d",
   "metadata": {},
   "source": [
    "#### Random Forest"
   ]
  },
  {
   "cell_type": "code",
   "execution_count": 47,
   "id": "83beb8f5-f701-4832-862b-a2eaf7f4ed65",
   "metadata": {},
   "outputs": [],
   "source": [
    "from sklearn.ensemble import RandomForestRegressor\n",
    "\n",
    "rfreg_model = RandomForestRegressor()"
   ]
  },
  {
   "cell_type": "code",
   "execution_count": 48,
   "id": "9f7db58e-dec6-4ea4-b23e-18d047221ea8",
   "metadata": {},
   "outputs": [
    {
     "data": {
      "text/plain": [
       "RandomForestRegressor()"
      ]
     },
     "execution_count": 48,
     "metadata": {},
     "output_type": "execute_result"
    }
   ],
   "source": [
    "rfreg_model.fit(X_train, y_train)"
   ]
  },
  {
   "cell_type": "code",
   "execution_count": 49,
   "id": "0e67bc82-9473-4f30-b64e-da9727c62182",
   "metadata": {},
   "outputs": [],
   "source": [
    "predictions_RF = rfreg_model.predict(X_test)"
   ]
  },
  {
   "cell_type": "code",
   "execution_count": 50,
   "id": "b7682219-93bb-41b4-a1fd-dd55c93834f6",
   "metadata": {},
   "outputs": [
    {
     "name": "stdout",
     "output_type": "stream",
     "text": [
      "0.47930068112954965\n"
     ]
    }
   ],
   "source": [
    "mse = mean_squared_error(y_test, predictions_RF)\n",
    "\n",
    "rmse = np.sqrt(mse)\n",
    "print(rmse)"
   ]
  },
  {
   "cell_type": "markdown",
   "id": "58988d56-da9e-4d88-b925-66dfa8dadfa0",
   "metadata": {},
   "source": [
    "##### the random forest is also not the best choice"
   ]
  },
  {
   "cell_type": "code",
   "execution_count": 51,
   "id": "d5bde750-96cf-478f-8edd-cc749479466b",
   "metadata": {},
   "outputs": [
    {
     "data": {
      "text/plain": [
       "<AxesSubplot:xlabel='Score'>"
      ]
     },
     "execution_count": 51,
     "metadata": {},
     "output_type": "execute_result"
    },
    {
     "data": {
      "image/png": "[encoded data removed]",
      "text/plain": [
       "<Figure size 432x288 with 1 Axes>"
      ]
     },
     "metadata": {},
     "output_type": "display_data"
    }
   ],
   "source": [
    "sns.regplot(x=y_test, y=predictions_RF, ci=None)"
   ]
  },
  {
   "cell_type": "markdown",
   "id": "2be7c0ba-c76b-4d23-a241-42f7a39115b7",
   "metadata": {},
   "source": [
    "#### Support Vector Regression"
   ]
  },
  {
   "cell_type": "code",
   "execution_count": 52,
   "id": "a98718a6-2d8c-4712-b055-1ab7aa151d2f",
   "metadata": {},
   "outputs": [],
   "source": [
    "from sklearn.svm import SVR\n",
    "\n",
    "svreg_model = SVR()"
   ]
  },
  {
   "cell_type": "code",
   "execution_count": 53,
   "id": "47690d2a-6563-4816-b691-bea4397a8c9b",
   "metadata": {},
   "outputs": [
    {
     "data": {
      "text/plain": [
       "SVR()"
      ]
     },
     "execution_count": 53,
     "metadata": {},
     "output_type": "execute_result"
    }
   ],
   "source": [
    "svreg_model.fit(X_train, y_train)"
   ]
  },
  {
   "cell_type": "code",
   "execution_count": 54,
   "id": "b37c8361-8bac-4d87-b602-0254a9faf1a0",
   "metadata": {},
   "outputs": [],
   "source": [
    "predictionsSVR = svreg_model.predict(X_test)"
   ]
  },
  {
   "cell_type": "code",
   "execution_count": 55,
   "id": "060951af-1e5e-4276-b4ec-0187c7526ad1",
   "metadata": {},
   "outputs": [
    {
     "name": "stdout",
     "output_type": "stream",
     "text": [
      "0.4047763759486929\n"
     ]
    }
   ],
   "source": [
    "mse = mean_squared_error(y_test, predictionsSVR)\n",
    "\n",
    "rmse = np.sqrt(mse)\n",
    "print(rmse)"
   ]
  },
  {
   "cell_type": "markdown",
   "id": "622960ce-6d04-4435-a773-247ae647f800",
   "metadata": {},
   "source": [
    "##### Definitely the SVR seems to be the best choice for this dataset."
   ]
  },
  {
   "cell_type": "code",
   "execution_count": 56,
   "id": "ec9d4209-54a3-469b-a081-4bd7a1f262ed",
   "metadata": {},
   "outputs": [
    {
     "data": {
      "text/plain": [
       "<AxesSubplot:xlabel='Score'>"
      ]
     },
     "execution_count": 56,
     "metadata": {},
     "output_type": "execute_result"
    },
    {
     "data": {
      "image/png": "[encoded data removed]",
      "text/plain": [
       "<Figure size 432x288 with 1 Axes>"
      ]
     },
     "metadata": {},
     "output_type": "display_data"
    }
   ],
   "source": [
    "sns.regplot(x=y_test, y=predictionsSVR, ci=None)"
   ]
  }
 ],
 "metadata": {
  "kernelspec": {
   "display_name": "Python 3 (ipykernel)",
   "language": "python",
   "name": "python3"
  },
  "language_info": {
   "codemirror_mode": {
    "name": "ipython",
    "version": 3
   },
   "file_extension": ".py",
   "mimetype": "text/x-python",
   "name": "python",
   "nbconvert_exporter": "python",
   "pygments_lexer": "ipython3",
   "version": "3.9.7"
  }
 },
 "nbformat": 4,
 "nbformat_minor": 5
}
